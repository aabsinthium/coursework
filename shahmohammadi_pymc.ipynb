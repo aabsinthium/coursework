{
 "cells": [
  {
   "cell_type": "markdown",
   "id": "8acb4184-e48a-4227-9ebd-2ac2eb6cd634",
   "metadata": {
    "tags": []
   },
   "source": [
    "# Libs"
   ]
  },
  {
   "cell_type": "code",
   "execution_count": 2,
   "id": "46e8dae2-e702-41a8-a84c-2f9e7f344311",
   "metadata": {},
   "outputs": [],
   "source": [
    "import math\n",
    "import warnings\n",
    "\n",
    "import numpy as np\n",
    "import arviz as az\n",
    "import pymc3 as pm\n",
    "import pandas as pd\n",
    "import seaborn as sns\n",
    "import scipy.special as sc\n",
    "import theano.tensor as tt\n",
    "import matplotlib.pyplot as plt\n",
    "from scipy import stats\n",
    "#from theano import shared, function\n",
    "#from pymc3.distributions.dist_math import betaln, bound\n",
    "\n",
    "from custom import pert\n",
    "\n",
    "warnings.simplefilter(action=\"ignore\", category=FutureWarning)"
   ]
  },
  {
   "cell_type": "code",
   "execution_count": 3,
   "id": "8789f6a7-bfd7-462c-8b6d-50857e349349",
   "metadata": {},
   "outputs": [
    {
     "name": "stdout",
     "output_type": "stream",
     "text": [
      "Running on PyMC v3.11.4\n",
      "Running on ArviZ v0.11.2\n"
     ]
    }
   ],
   "source": [
    "%config InlineBackend.figure_format = 'retina'\n",
    "az.style.use(\"arviz-darkgrid\")\n",
    "print(f\"Running on PyMC v{pm.__version__}\")\n",
    "print(f\"Running on ArviZ v{az.__version__}\")"
   ]
  },
  {
   "cell_type": "markdown",
   "id": "25c0d6a6-3afa-4d21-9636-a10e2d69b757",
   "metadata": {
    "jp-MarkdownHeadingCollapsed": true,
    "tags": []
   },
   "source": [
    "# Testing"
   ]
  },
  {
   "cell_type": "markdown",
   "id": "94d5aed2-0afa-418b-a381-907ae4b9d3cf",
   "metadata": {},
   "source": [
    "Тут просто тестирование библиотек"
   ]
  },
  {
   "cell_type": "markdown",
   "id": "fa6f16a4-7ab1-4ac0-9e8c-a6fc6a00a24f",
   "metadata": {
    "jp-MarkdownHeadingCollapsed": true,
    "tags": []
   },
   "source": [
    "## Normal Test"
   ]
  },
  {
   "cell_type": "code",
   "execution_count": 29,
   "id": "a84826b6-1ebe-48c6-a4c4-1b05251e3a81",
   "metadata": {},
   "outputs": [],
   "source": [
    "with pm.Model():\n",
    "    x = pm.Normal(\"x\", mu=0, sigma=1)"
   ]
  },
  {
   "cell_type": "code",
   "execution_count": 7,
   "id": "00830ad8-9bf9-4b6c-8fae-70f32f58aa16",
   "metadata": {},
   "outputs": [],
   "source": [
    "values = np.linspace(-5, 5, 1000)\n",
    "probs = np.array([np.exp(x.logp({\"x\": i})) for i in values])\n",
    "#probs"
   ]
  },
  {
   "cell_type": "code",
   "execution_count": 27,
   "id": "5086e59b-b87d-481f-b976-e7bb592cb86a",
   "metadata": {},
   "outputs": [
    {
     "data": {
      "text/plain": [
       "<function matplotlib.pyplot.plot(*args, scalex=True, scaley=True, data=None, **kwargs)>"
      ]
     },
     "execution_count": 27,
     "metadata": {},
     "output_type": "execute_result"
    },
    {
     "data": {
      "image/png": "[encoded data removed]",
      "text/plain": [
       "<Figure size 432x288 with 1 Axes>"
      ]
     },
     "metadata": {
      "needs_background": "light"
     },
     "output_type": "display_data"
    }
   ],
   "source": [
    "fig, ax = plt.subplots()\n",
    "ax.set_ylim(0, 0.5)\n",
    "ax.set_xticks(np.linspace(-5, 5, 5))\n",
    "ax.plot(values, probs)\n",
    "plt.plot"
   ]
  },
  {
   "cell_type": "markdown",
   "id": "9750ba92-38e1-4a03-a88d-49134b073796",
   "metadata": {
    "jp-MarkdownHeadingCollapsed": true,
    "tags": []
   },
   "source": [
    "## Beta Test"
   ]
  },
  {
   "cell_type": "code",
   "execution_count": 27,
   "id": "80c24f95-777a-46a6-8dc7-e53993011b78",
   "metadata": {},
   "outputs": [],
   "source": [
    "with pm.Model():\n",
    "    x_beta = pm.Beta(\"x_beta\", alpha=1.8, beta=4.2, transform=None)"
   ]
  },
  {
   "cell_type": "code",
   "execution_count": 30,
   "id": "68e50525-0bf5-408f-9bee-c3b4b0dd18b4",
   "metadata": {},
   "outputs": [],
   "source": [
    "beta_values = np.linspace(0, 1, 1000)\n",
    "beta_probs = np.array([np.exp(x_beta.logp({\"x_beta\": i})) for i in beta_values])\n",
    "#probs"
   ]
  },
  {
   "cell_type": "code",
   "execution_count": 32,
   "id": "3e313ae1-d6de-4c0b-8b72-58121e5b7dff",
   "metadata": {},
   "outputs": [
    {
     "data": {
      "text/plain": [
       "<function matplotlib.pyplot.plot(*args, scalex=True, scaley=True, data=None, **kwargs)>"
      ]
     },
     "execution_count": 32,
     "metadata": {},
     "output_type": "execute_result"
    },
    {
     "data": {
      "image/png": "[encoded data removed]",
      "text/plain": [
       "<Figure size 432x288 with 1 Axes>"
      ]
     },
     "metadata": {
      "needs_background": "light"
     },
     "output_type": "display_data"
    }
   ],
   "source": [
    "fig, ax = plt.subplots()\n",
    "ax.set_ylim(0, 2.5)\n",
    "ax.set_xticks(np.linspace(0, 1, 6))\n",
    "ax.plot(beta_values, beta_probs)\n",
    "plt.plot"
   ]
  },
  {
   "cell_type": "markdown",
   "id": "0744bc52-51e0-41d1-b01a-a8b594db4971",
   "metadata": {
    "jp-MarkdownHeadingCollapsed": true,
    "tags": []
   },
   "source": [
    "## Theano Test"
   ]
  },
  {
   "cell_type": "code",
   "execution_count": 38,
   "id": "c5c58ea3-2c7a-4ca4-a1dc-02ee854003cb",
   "metadata": {
    "collapsed": true,
    "jupyter": {
     "outputs_hidden": true
    },
    "tags": []
   },
   "outputs": [
    {
     "data": {
      "text/plain": [
       "array([1.        , 1.00500501, 1.01001001, 1.01501502, 1.02002002,\n",
       "       1.02502503, 1.03003003, 1.03503504, 1.04004004, 1.04504505,\n",
       "       1.05005005, 1.05505506, 1.06006006, 1.06506507, 1.07007007,\n",
       "       1.07507508, 1.08008008, 1.08508509, 1.09009009, 1.0950951 ,\n",
       "       1.1001001 , 1.10510511, 1.11011011, 1.11511512, 1.12012012,\n",
       "       1.12512513, 1.13013013, 1.13513514, 1.14014014, 1.14514515,\n",
       "       1.15015015, 1.15515516, 1.16016016, 1.16516517, 1.17017017,\n",
       "       1.17517518, 1.18018018, 1.18518519, 1.19019019, 1.1951952 ,\n",
       "       1.2002002 , 1.20520521, 1.21021021, 1.21521522, 1.22022022,\n",
       "       1.22522523, 1.23023023, 1.23523524, 1.24024024, 1.24524525,\n",
       "       1.25025025, 1.25525526, 1.26026026, 1.26526527, 1.27027027,\n",
       "       1.27527528, 1.28028028, 1.28528529, 1.29029029, 1.2952953 ,\n",
       "       1.3003003 , 1.30530531, 1.31031031, 1.31531532, 1.32032032,\n",
       "       1.32532533, 1.33033033, 1.33533534, 1.34034034, 1.34534535,\n",
       "       1.35035035, 1.35535536, 1.36036036, 1.36536537, 1.37037037,\n",
       "       1.37537538, 1.38038038, 1.38538539, 1.39039039, 1.3953954 ,\n",
       "       1.4004004 , 1.40540541, 1.41041041, 1.41541542, 1.42042042,\n",
       "       1.42542543, 1.43043043, 1.43543544, 1.44044044, 1.44544545,\n",
       "       1.45045045, 1.45545546, 1.46046046, 1.46546547, 1.47047047,\n",
       "       1.47547548, 1.48048048, 1.48548549, 1.49049049, 1.4954955 ,\n",
       "       1.5005005 , 1.50550551, 1.51051051, 1.51551552, 1.52052052,\n",
       "       1.52552553, 1.53053053, 1.53553554, 1.54054054, 1.54554555,\n",
       "       1.55055055, 1.55555556, 1.56056056, 1.56556557, 1.57057057,\n",
       "       1.57557558, 1.58058058, 1.58558559, 1.59059059, 1.5955956 ,\n",
       "       1.6006006 , 1.60560561, 1.61061061, 1.61561562, 1.62062062,\n",
       "       1.62562563, 1.63063063, 1.63563564, 1.64064064, 1.64564565,\n",
       "       1.65065065, 1.65565566, 1.66066066, 1.66566567, 1.67067067,\n",
       "       1.67567568, 1.68068068, 1.68568569, 1.69069069, 1.6956957 ,\n",
       "       1.7007007 , 1.70570571, 1.71071071, 1.71571572, 1.72072072,\n",
       "       1.72572573, 1.73073073, 1.73573574, 1.74074074, 1.74574575,\n",
       "       1.75075075, 1.75575576, 1.76076076, 1.76576577, 1.77077077,\n",
       "       1.77577578, 1.78078078, 1.78578579, 1.79079079, 1.7957958 ,\n",
       "       1.8008008 , 1.80580581, 1.81081081, 1.81581582, 1.82082082,\n",
       "       1.82582583, 1.83083083, 1.83583584, 1.84084084, 1.84584585,\n",
       "       1.85085085, 1.85585586, 1.86086086, 1.86586587, 1.87087087,\n",
       "       1.87587588, 1.88088088, 1.88588589, 1.89089089, 1.8958959 ,\n",
       "       1.9009009 , 1.90590591, 1.91091091, 1.91591592, 1.92092092,\n",
       "       1.92592593, 1.93093093, 1.93593594, 1.94094094, 1.94594595,\n",
       "       1.95095095, 1.95595596, 1.96096096, 1.96596597, 1.97097097,\n",
       "       1.97597598, 1.98098098, 1.98598599, 1.99099099, 1.995996  ,\n",
       "       2.001001  , 2.00600601, 2.01101101, 2.01601602, 2.02102102,\n",
       "       2.02602603, 2.03103103, 2.03603604, 2.04104104, 2.04604605,\n",
       "       2.05105105, 2.05605606, 2.06106106, 2.06606607, 2.07107107,\n",
       "       2.07607608, 2.08108108, 2.08608609, 2.09109109, 2.0960961 ,\n",
       "       2.1011011 , 2.10610611, 2.11111111, 2.11611612, 2.12112112,\n",
       "       2.12612613, 2.13113113, 2.13613614, 2.14114114, 2.14614615,\n",
       "       2.15115115, 2.15615616, 2.16116116, 2.16616617, 2.17117117,\n",
       "       2.17617618, 2.18118118, 2.18618619, 2.19119119, 2.1961962 ,\n",
       "       2.2012012 , 2.20620621, 2.21121121, 2.21621622, 2.22122122,\n",
       "       2.22622623, 2.23123123, 2.23623624, 2.24124124, 2.24624625,\n",
       "       2.25125125, 2.25625626, 2.26126126, 2.26626627, 2.27127127,\n",
       "       2.27627628, 2.28128128, 2.28628629, 2.29129129, 2.2962963 ,\n",
       "       2.3013013 , 2.30630631, 2.31131131, 2.31631632, 2.32132132,\n",
       "       2.32632633, 2.33133133, 2.33633634, 2.34134134, 2.34634635,\n",
       "       2.35135135, 2.35635636, 2.36136136, 2.36636637, 2.37137137,\n",
       "       2.37637638, 2.38138138, 2.38638639, 2.39139139, 2.3963964 ,\n",
       "       2.4014014 , 2.40640641, 2.41141141, 2.41641642, 2.42142142,\n",
       "       2.42642643, 2.43143143, 2.43643644, 2.44144144, 2.44644645,\n",
       "       2.45145145, 2.45645646, 2.46146146, 2.46646647, 2.47147147,\n",
       "       2.47647648, 2.48148148, 2.48648649, 2.49149149, 2.4964965 ,\n",
       "       2.5015015 , 2.50650651, 2.51151151, 2.51651652, 2.52152152,\n",
       "       2.52652653, 2.53153153, 2.53653654, 2.54154154, 2.54654655,\n",
       "       2.55155155, 2.55655656, 2.56156156, 2.56656657, 2.57157157,\n",
       "       2.57657658, 2.58158158, 2.58658659, 2.59159159, 2.5965966 ,\n",
       "       2.6016016 , 2.60660661, 2.61161161, 2.61661662, 2.62162162,\n",
       "       2.62662663, 2.63163163, 2.63663664, 2.64164164, 2.64664665,\n",
       "       2.65165165, 2.65665666, 2.66166166, 2.66666667, 2.67167167,\n",
       "       2.67667668, 2.68168168, 2.68668669, 2.69169169, 2.6966967 ,\n",
       "       2.7017017 , 2.70670671, 2.71171171, 2.71671672, 2.72172172,\n",
       "       2.72672673, 2.73173173, 2.73673674, 2.74174174, 2.74674675,\n",
       "       2.75175175, 2.75675676, 2.76176176, 2.76676677, 2.77177177,\n",
       "       2.77677678, 2.78178178, 2.78678679, 2.79179179, 2.7967968 ,\n",
       "       2.8018018 , 2.80680681, 2.81181181, 2.81681682, 2.82182182,\n",
       "       2.82682683, 2.83183183, 2.83683684, 2.84184184, 2.84684685,\n",
       "       2.85185185, 2.85685686, 2.86186186, 2.86686687, 2.87187187,\n",
       "       2.87687688, 2.88188188, 2.88688689, 2.89189189, 2.8968969 ,\n",
       "       2.9019019 , 2.90690691, 2.91191191, 2.91691692, 2.92192192,\n",
       "       2.92692693, 2.93193193, 2.93693694, 2.94194194, 2.94694695,\n",
       "       2.95195195, 2.95695696, 2.96196196, 2.96696697, 2.97197197,\n",
       "       2.97697698, 2.98198198, 2.98698699, 2.99199199, 2.996997  ,\n",
       "       3.002002  , 3.00700701, 3.01201201, 3.01701702, 3.02202202,\n",
       "       3.02702703, 3.03203203, 3.03703704, 3.04204204, 3.04704705,\n",
       "       3.05205205, 3.05705706, 3.06206206, 3.06706707, 3.07207207,\n",
       "       3.07707708, 3.08208208, 3.08708709, 3.09209209, 3.0970971 ,\n",
       "       3.1021021 , 3.10710711, 3.11211211, 3.11711712, 3.12212212,\n",
       "       3.12712713, 3.13213213, 3.13713714, 3.14214214, 3.14714715,\n",
       "       3.15215215, 3.15715716, 3.16216216, 3.16716717, 3.17217217,\n",
       "       3.17717718, 3.18218218, 3.18718719, 3.19219219, 3.1971972 ,\n",
       "       3.2022022 , 3.20720721, 3.21221221, 3.21721722, 3.22222222,\n",
       "       3.22722723, 3.23223223, 3.23723724, 3.24224224, 3.24724725,\n",
       "       3.25225225, 3.25725726, 3.26226226, 3.26726727, 3.27227227,\n",
       "       3.27727728, 3.28228228, 3.28728729, 3.29229229, 3.2972973 ,\n",
       "       3.3023023 , 3.30730731, 3.31231231, 3.31731732, 3.32232232,\n",
       "       3.32732733, 3.33233233, 3.33733734, 3.34234234, 3.34734735,\n",
       "       3.35235235, 3.35735736, 3.36236236, 3.36736737, 3.37237237,\n",
       "       3.37737738, 3.38238238, 3.38738739, 3.39239239, 3.3973974 ,\n",
       "       3.4024024 , 3.40740741, 3.41241241, 3.41741742, 3.42242242,\n",
       "       3.42742743, 3.43243243, 3.43743744, 3.44244244, 3.44744745,\n",
       "       3.45245245, 3.45745746, 3.46246246, 3.46746747, 3.47247247,\n",
       "       3.47747748, 3.48248248, 3.48748749, 3.49249249, 3.4974975 ,\n",
       "       3.5025025 , 3.50750751, 3.51251251, 3.51751752, 3.52252252,\n",
       "       3.52752753, 3.53253253, 3.53753754, 3.54254254, 3.54754755,\n",
       "       3.55255255, 3.55755756, 3.56256256, 3.56756757, 3.57257257,\n",
       "       3.57757758, 3.58258258, 3.58758759, 3.59259259, 3.5975976 ,\n",
       "       3.6026026 , 3.60760761, 3.61261261, 3.61761762, 3.62262262,\n",
       "       3.62762763, 3.63263263, 3.63763764, 3.64264264, 3.64764765,\n",
       "       3.65265265, 3.65765766, 3.66266266, 3.66766767, 3.67267267,\n",
       "       3.67767768, 3.68268268, 3.68768769, 3.69269269, 3.6976977 ,\n",
       "       3.7027027 , 3.70770771, 3.71271271, 3.71771772, 3.72272272,\n",
       "       3.72772773, 3.73273273, 3.73773774, 3.74274274, 3.74774775,\n",
       "       3.75275275, 3.75775776, 3.76276276, 3.76776777, 3.77277277,\n",
       "       3.77777778, 3.78278278, 3.78778779, 3.79279279, 3.7977978 ,\n",
       "       3.8028028 , 3.80780781, 3.81281281, 3.81781782, 3.82282282,\n",
       "       3.82782783, 3.83283283, 3.83783784, 3.84284284, 3.84784785,\n",
       "       3.85285285, 3.85785786, 3.86286286, 3.86786787, 3.87287287,\n",
       "       3.87787788, 3.88288288, 3.88788789, 3.89289289, 3.8978979 ,\n",
       "       3.9029029 , 3.90790791, 3.91291291, 3.91791792, 3.92292292,\n",
       "       3.92792793, 3.93293293, 3.93793794, 3.94294294, 3.94794795,\n",
       "       3.95295295, 3.95795796, 3.96296296, 3.96796797, 3.97297297,\n",
       "       3.97797798, 3.98298298, 3.98798799, 3.99299299, 3.997998  ,\n",
       "       4.003003  , 4.00800801, 4.01301301, 4.01801802, 4.02302302,\n",
       "       4.02802803, 4.03303303, 4.03803804, 4.04304304, 4.04804805,\n",
       "       4.05305305, 4.05805806, 4.06306306, 4.06806807, 4.07307307,\n",
       "       4.07807808, 4.08308308, 4.08808809, 4.09309309, 4.0980981 ,\n",
       "       4.1031031 , 4.10810811, 4.11311311, 4.11811812, 4.12312312,\n",
       "       4.12812813, 4.13313313, 4.13813814, 4.14314314, 4.14814815,\n",
       "       4.15315315, 4.15815816, 4.16316316, 4.16816817, 4.17317317,\n",
       "       4.17817818, 4.18318318, 4.18818819, 4.19319319, 4.1981982 ,\n",
       "       4.2032032 , 4.20820821, 4.21321321, 4.21821822, 4.22322322,\n",
       "       4.22822823, 4.23323323, 4.23823824, 4.24324324, 4.24824825,\n",
       "       4.25325325, 4.25825826, 4.26326326, 4.26826827, 4.27327327,\n",
       "       4.27827828, 4.28328328, 4.28828829, 4.29329329, 4.2982983 ,\n",
       "       4.3033033 , 4.30830831, 4.31331331, 4.31831832, 4.32332332,\n",
       "       4.32832833, 4.33333333, 4.33833834, 4.34334334, 4.34834835,\n",
       "       4.35335335, 4.35835836, 4.36336336, 4.36836837, 4.37337337,\n",
       "       4.37837838, 4.38338338, 4.38838839, 4.39339339, 4.3983984 ,\n",
       "       4.4034034 , 4.40840841, 4.41341341, 4.41841842, 4.42342342,\n",
       "       4.42842843, 4.43343343, 4.43843844, 4.44344344, 4.44844845,\n",
       "       4.45345345, 4.45845846, 4.46346346, 4.46846847, 4.47347347,\n",
       "       4.47847848, 4.48348348, 4.48848849, 4.49349349, 4.4984985 ,\n",
       "       4.5035035 , 4.50850851, 4.51351351, 4.51851852, 4.52352352,\n",
       "       4.52852853, 4.53353353, 4.53853854, 4.54354354, 4.54854855,\n",
       "       4.55355355, 4.55855856, 4.56356356, 4.56856857, 4.57357357,\n",
       "       4.57857858, 4.58358358, 4.58858859, 4.59359359, 4.5985986 ,\n",
       "       4.6036036 , 4.60860861, 4.61361361, 4.61861862, 4.62362362,\n",
       "       4.62862863, 4.63363363, 4.63863864, 4.64364364, 4.64864865,\n",
       "       4.65365365, 4.65865866, 4.66366366, 4.66866867, 4.67367367,\n",
       "       4.67867868, 4.68368368, 4.68868869, 4.69369369, 4.6986987 ,\n",
       "       4.7037037 , 4.70870871, 4.71371371, 4.71871872, 4.72372372,\n",
       "       4.72872873, 4.73373373, 4.73873874, 4.74374374, 4.74874875,\n",
       "       4.75375375, 4.75875876, 4.76376376, 4.76876877, 4.77377377,\n",
       "       4.77877878, 4.78378378, 4.78878879, 4.79379379, 4.7987988 ,\n",
       "       4.8038038 , 4.80880881, 4.81381381, 4.81881882, 4.82382382,\n",
       "       4.82882883, 4.83383383, 4.83883884, 4.84384384, 4.84884885,\n",
       "       4.85385385, 4.85885886, 4.86386386, 4.86886887, 4.87387387,\n",
       "       4.87887888, 4.88388388, 4.88888889, 4.89389389, 4.8988989 ,\n",
       "       4.9039039 , 4.90890891, 4.91391391, 4.91891892, 4.92392392,\n",
       "       4.92892893, 4.93393393, 4.93893894, 4.94394394, 4.94894895,\n",
       "       4.95395395, 4.95895896, 4.96396396, 4.96896897, 4.97397397,\n",
       "       4.97897898, 4.98398398, 4.98898899, 4.99399399, 4.998999  ,\n",
       "       5.004004  , 5.00900901, 5.01401401, 5.01901902, 5.02402402,\n",
       "       5.02902903, 5.03403403, 5.03903904, 5.04404404, 5.04904905,\n",
       "       5.05405405, 5.05905906, 5.06406406, 5.06906907, 5.07407407,\n",
       "       5.07907908, 5.08408408, 5.08908909, 5.09409409, 5.0990991 ,\n",
       "       5.1041041 , 5.10910911, 5.11411411, 5.11911912, 5.12412412,\n",
       "       5.12912913, 5.13413413, 5.13913914, 5.14414414, 5.14914915,\n",
       "       5.15415415, 5.15915916, 5.16416416, 5.16916917, 5.17417417,\n",
       "       5.17917918, 5.18418418, 5.18918919, 5.19419419, 5.1991992 ,\n",
       "       5.2042042 , 5.20920921, 5.21421421, 5.21921922, 5.22422422,\n",
       "       5.22922923, 5.23423423, 5.23923924, 5.24424424, 5.24924925,\n",
       "       5.25425425, 5.25925926, 5.26426426, 5.26926927, 5.27427427,\n",
       "       5.27927928, 5.28428428, 5.28928929, 5.29429429, 5.2992993 ,\n",
       "       5.3043043 , 5.30930931, 5.31431431, 5.31931932, 5.32432432,\n",
       "       5.32932933, 5.33433433, 5.33933934, 5.34434434, 5.34934935,\n",
       "       5.35435435, 5.35935936, 5.36436436, 5.36936937, 5.37437437,\n",
       "       5.37937938, 5.38438438, 5.38938939, 5.39439439, 5.3993994 ,\n",
       "       5.4044044 , 5.40940941, 5.41441441, 5.41941942, 5.42442442,\n",
       "       5.42942943, 5.43443443, 5.43943944, 5.44444444, 5.44944945,\n",
       "       5.45445445, 5.45945946, 5.46446446, 5.46946947, 5.47447447,\n",
       "       5.47947948, 5.48448448, 5.48948949, 5.49449449, 5.4994995 ,\n",
       "       5.5045045 , 5.50950951, 5.51451451, 5.51951952, 5.52452452,\n",
       "       5.52952953, 5.53453453, 5.53953954, 5.54454454, 5.54954955,\n",
       "       5.55455455, 5.55955956, 5.56456456, 5.56956957, 5.57457457,\n",
       "       5.57957958, 5.58458458, 5.58958959, 5.59459459, 5.5995996 ,\n",
       "       5.6046046 , 5.60960961, 5.61461461, 5.61961962, 5.62462462,\n",
       "       5.62962963, 5.63463463, 5.63963964, 5.64464464, 5.64964965,\n",
       "       5.65465465, 5.65965966, 5.66466466, 5.66966967, 5.67467467,\n",
       "       5.67967968, 5.68468468, 5.68968969, 5.69469469, 5.6996997 ,\n",
       "       5.7047047 , 5.70970971, 5.71471471, 5.71971972, 5.72472472,\n",
       "       5.72972973, 5.73473473, 5.73973974, 5.74474474, 5.74974975,\n",
       "       5.75475475, 5.75975976, 5.76476476, 5.76976977, 5.77477477,\n",
       "       5.77977978, 5.78478478, 5.78978979, 5.79479479, 5.7997998 ,\n",
       "       5.8048048 , 5.80980981, 5.81481481, 5.81981982, 5.82482482,\n",
       "       5.82982983, 5.83483483, 5.83983984, 5.84484484, 5.84984985,\n",
       "       5.85485485, 5.85985986, 5.86486486, 5.86986987, 5.87487487,\n",
       "       5.87987988, 5.88488488, 5.88988989, 5.89489489, 5.8998999 ,\n",
       "       5.9049049 , 5.90990991, 5.91491491, 5.91991992, 5.92492492,\n",
       "       5.92992993, 5.93493493, 5.93993994, 5.94494494, 5.94994995,\n",
       "       5.95495495, 5.95995996, 5.96496496, 5.96996997, 5.97497497,\n",
       "       5.97997998, 5.98498498, 5.98998999, 5.99499499, 6.        ])"
      ]
     },
     "execution_count": 38,
     "metadata": {},
     "output_type": "execute_result"
    }
   ],
   "source": [
    "#x = tt.vector('x')\n",
    "#f = function([x], x)\n",
    "x = shared(np.linspace(1, 6, 1000))\n",
    "#x = 3\n",
    "#function([list(np.linspace(0, 5, 10000))])\n",
    "x.get_value()"
   ]
  },
  {
   "cell_type": "code",
   "execution_count": 52,
   "id": "5c0cc281-3dc6-4100-a82d-7bba0cc68743",
   "metadata": {},
   "outputs": [
    {
     "data": {
      "text/plain": [
       "0.5"
      ]
     },
     "execution_count": 52,
     "metadata": {},
     "output_type": "execute_result"
    }
   ],
   "source": [
    "alpha, beta = tt.vector('alpha'), tt.vector('beta')\n",
    "alpha = shared(1)\n",
    "beta = shared(2)\n",
    "sc.beta(alpha.get_value(), beta.get_value())"
   ]
  },
  {
   "cell_type": "markdown",
   "id": "66bcaeae-6703-4467-8dbc-7ff92e229040",
   "metadata": {},
   "source": [
    "# PERT"
   ]
  },
  {
   "cell_type": "markdown",
   "id": "5a810b88-7398-4526-b8ef-829538676e7c",
   "metadata": {},
   "source": [
    "Попытка сделать кастомное PERT-распределение. По сути оно представляет из себя частный случай четырехпараметрического бета-распредления с двумя параметрами формы $\\alpha$ и $\\beta$ из двухпараметрического бета-распределения и еще двумя параметрами масштаба $a$ и $c$, которые задают область определения $min$ и $max$ распределения. Иными словами $x \\in [a, c]$."
   ]
  },
  {
   "cell_type": "markdown",
   "id": "d5bf11f9-a494-4610-b2a0-178c44590e81",
   "metadata": {},
   "source": [
    "Но в PERT используются три параметра $a$, $b$ и $c$. $a$ и $c$ — это те же параметры из бета, то есть $min$ и $max$. Но форма задается не напрямую через параметры $\\alpha$ и $\\beta$, которые являются аргументами бета-функции, а через параметр $c$, котоорый является mode (модой?) распределения. Притом аргументы бета-функции $\\alpha$ и $\\beta$ можно вычислить по формулам:"
   ]
  },
  {
   "cell_type": "markdown",
   "id": "2de33cd2-04c5-4dbf-a511-594695478dad",
   "metadata": {},
   "source": [
    "$\\alpha = 1 + 4 \\dfrac{b - a}{c - a}$"
   ]
  },
  {
   "cell_type": "markdown",
   "id": "3637ba73-7c69-48c7-ab46-06f77a00ba45",
   "metadata": {},
   "source": [
    "$\\beta = 1 + 4 \\dfrac{c - b}{c - a}$"
   ]
  },
  {
   "cell_type": "markdown",
   "id": "0c568fee-6f0a-4a94-9df0-956af6e4592d",
   "metadata": {},
   "source": [
    "$PDF_{beta} = \\dfrac{x^{\\alpha - 1}(1 - x)^{\\beta - 1}}{B(\\alpha, \\beta)}$"
   ]
  },
  {
   "cell_type": "markdown",
   "id": "78f257b8-ec08-4077-bd48-d5d8ce662342",
   "metadata": {},
   "source": [
    "$PDF_{PERT} = \\dfrac{(x - a)^{\\alpha - 1}(c - x)^{\\beta - 1}}{B(\\alpha, \\beta)(c - a)^{\\alpha + \\beta - 1}}$"
   ]
  },
  {
   "cell_type": "markdown",
   "id": "5d505118-3bd8-4312-8574-5f1decb1148a",
   "metadata": {},
   "source": [
    "Все формулы брал из таблички вики: https://en.wikipedia.org/wiki/PERT_distribution"
   ]
  },
  {
   "cell_type": "markdown",
   "id": "fa79e518-2586-4584-b8a5-9075caeba64f",
   "metadata": {},
   "source": [
    "## PERT Testing"
   ]
  },
  {
   "cell_type": "code",
   "execution_count": 5,
   "id": "fefedfb7-3fa2-40b9-9453-8b523537d222",
   "metadata": {},
   "outputs": [],
   "source": [
    "with pm.Model():\n",
    "    #BoundedPert = pm.Bound(Pert, lower=0, upper=5)\n",
    "    #x = BoundedPert(name=\"x\", a=0, b=2, c=5, transform=None)\n",
    "    dist = pert(name=\"dist\", a=0, b=2, c=5, transform=None)"
   ]
  },
  {
   "cell_type": "code",
   "execution_count": 6,
   "id": "140484cf-a7de-4bd1-b889-3173e1d4170e",
   "metadata": {},
   "outputs": [],
   "source": [
    "x = np.linspace(0, 5, 10000)\n",
    "y = np.array([np.exp(dist.logp({\"dist\": i})) for i in x])\n",
    "#probs"
   ]
  },
  {
   "cell_type": "code",
   "execution_count": 7,
   "id": "a04b7d92-d249-4cca-988f-6a8766ac0e3a",
   "metadata": {},
   "outputs": [
    {
     "data": {
      "text/plain": [
       "<function matplotlib.pyplot.plot(*args, scalex=True, scaley=True, data=None, **kwargs)>"
      ]
     },
     "execution_count": 7,
     "metadata": {},
     "output_type": "execute_result"
    },
    {
     "data": {
      "image/png": "[encoded data removed]",
      "text/plain": [
       "<Figure size 720x480 with 1 Axes>"
      ]
     },
     "metadata": {
      "image/png": {
       "height": 491,
       "width": 731
      }
     },
     "output_type": "display_data"
    }
   ],
   "source": [
    "fig, ax = plt.subplots()\n",
    "#ax.set_ylim(0, 2.5)\n",
    "ax.set_xticks(np.linspace(0, 5, 11))\n",
    "ax.plot(x, y)\n",
    "plt.plot"
   ]
  },
  {
   "cell_type": "markdown",
   "id": "d7652265-c5e8-48c2-9a85-fe0cec99857f",
   "metadata": {
    "jp-MarkdownHeadingCollapsed": true,
    "tags": []
   },
   "source": [
    "# Trash"
   ]
  },
  {
   "cell_type": "markdown",
   "id": "c7bb9dd3-d7e1-4079-9d91-60d20d62a91b",
   "metadata": {
    "jp-MarkdownHeadingCollapsed": true,
    "tags": []
   },
   "source": [
    "## Beta-function"
   ]
  },
  {
   "cell_type": "markdown",
   "id": "5ca05bc1-7fdf-4afd-abe0-ba0447e3ba9d",
   "metadata": {
    "jupyter": {
     "source_hidden": true
    },
    "tags": []
   },
   "source": [
    "Первый вариант: прописать PDF по формуле через бета-функцию"
   ]
  },
  {
   "cell_type": "markdown",
   "id": "95c3015a-944a-474f-afc8-1891eacfce01",
   "metadata": {
    "jupyter": {
     "source_hidden": true
    },
    "tags": []
   },
   "source": [
    "Здесь начинаются эксперименты с построением кастомного распределения. Для начала я попробовал воспользоваться формулой PDF из той же вики, которая является просто масштабируемой бета-функцией. Благо, в scipy она как раз встроена "
   ]
  },
  {
   "cell_type": "markdown",
   "id": "9cc6e7b8-5e6a-4f57-be42-c7e9bb3bf1a6",
   "metadata": {
    "jupyter": {
     "source_hidden": true
    },
    "tags": []
   },
   "source": [
    "$\\alpha = 1 + 4 \\dfrac{b - a}{c - a}$"
   ]
  },
  {
   "cell_type": "markdown",
   "id": "61bf2b79-21e3-4cdc-a85d-f75ab842aa88",
   "metadata": {
    "jupyter": {
     "source_hidden": true
    },
    "tags": []
   },
   "source": [
    "$\\beta = 1 + 4 \\dfrac{c - b}{c - a}$"
   ]
  },
  {
   "cell_type": "markdown",
   "id": "ffcf75e8-3dc0-488e-ae7c-27537b13e32f",
   "metadata": {
    "jupyter": {
     "source_hidden": true
    },
    "tags": []
   },
   "source": [
    "$PDF_{PERT} = \\dfrac{(x - a)^{\\alpha - 1}(c - x)^{\\beta - 1}}{B(\\alpha, \\beta)(c - a)^{\\alpha + \\beta - 1}}$"
   ]
  },
  {
   "cell_type": "markdown",
   "id": "4bb42352-8603-45da-aaa9-ef736a8fab2c",
   "metadata": {
    "jupyter": {
     "source_hidden": true
    },
    "tags": []
   },
   "source": [
    "И сейчас все вроде бы заработало, потому что я разобрался с типизацией. Но работает не так, как надо, потому что на любое значение $x$ выдает $logp = - \\infty$"
   ]
  },
  {
   "cell_type": "code",
   "execution_count": 74,
   "id": "696b6790-2ddb-4887-acdd-1a8fda78b917",
   "metadata": {
    "collapsed": true,
    "jupyter": {
     "outputs_hidden": true,
     "source_hidden": true
    },
    "tags": []
   },
   "outputs": [
    {
     "name": "stderr",
     "output_type": "stream",
     "text": [
      "/var/folders/dh/21zryz8x2nddglznzqt68jj40000gn/T/ipykernel_6866/85269389.py:23: RuntimeWarning: divide by zero encountered in log\n",
      "  result = np.log(coef / beta_function)\n"
     ]
    },
    {
     "name": "stdout",
     "output_type": "stream",
     "text": [
      "[0.00000000e+00 8.91761131e-05 2.69681784e-04 5.14697027e-04\n",
      " 8.13591907e-04 1.15988403e-03 1.54901434e-03 1.97751651e-03\n",
      " 2.44262046e-03 2.94203423e-03 3.47381223e-03 4.03626994e-03\n",
      " 4.62792594e-03 5.24746076e-03 5.89368676e-03 6.56552547e-03\n",
      " 7.26199014e-03 7.98217206e-03 8.72522964e-03 9.49037958e-03\n",
      " 1.02768897e-02 1.10840726e-02 1.19112813e-02 1.27579043e-02\n",
      " 1.36233622e-02 1.45071049e-02 1.54086082e-02 1.63273724e-02\n",
      " 1.72629194e-02 1.82147913e-02 1.91825488e-02 2.01657699e-02\n",
      " 2.11640483e-02 2.21769924e-02 2.32042245e-02 2.42453798e-02\n",
      " 2.53001054e-02 2.63680596e-02 2.74489114e-02 2.85423397e-02\n",
      " 2.96480329e-02 3.07656881e-02 3.18950109e-02 3.30357150e-02\n",
      " 3.41875213e-02 3.53501582e-02 3.65233607e-02 3.77068704e-02\n",
      " 3.89004352e-02 4.01038088e-02 4.13167504e-02 4.25390250e-02\n",
      " 4.37704024e-02 4.50106577e-02 4.62595705e-02 4.75169251e-02\n",
      " 4.87825104e-02 5.00561191e-02 5.13375485e-02 5.26265993e-02\n",
      " 5.39230765e-02 5.52267883e-02 5.65375469e-02 5.78551676e-02\n",
      " 5.91794690e-02 6.05102732e-02 6.18474049e-02 6.31906924e-02\n",
      " 6.45399663e-02 6.58950606e-02 6.72558115e-02 6.86220583e-02\n",
      " 6.99936427e-02 7.13704088e-02 7.27522032e-02 7.41388751e-02\n",
      " 7.55302757e-02 7.69262586e-02 7.83266796e-02 7.97313966e-02\n",
      " 8.11402696e-02 8.25531606e-02 8.39699335e-02 8.53904544e-02\n",
      " 8.68145910e-02 8.82422129e-02 8.96731918e-02 9.11074006e-02\n",
      " 9.25447145e-02 9.39850100e-02 9.54281654e-02 9.68740606e-02\n",
      " 9.83225770e-02 9.97735976e-02 1.01227007e-01 1.02682691e-01\n",
      " 1.04140537e-01 1.05600434e-01 1.07062273e-01 1.08525944e-01\n",
      " 1.09991342e-01 1.11458359e-01 1.12926893e-01 1.14396839e-01\n",
      " 1.15868095e-01 1.17340562e-01 1.18814139e-01 1.20288729e-01\n",
      " 1.21764233e-01 1.23240557e-01 1.24717605e-01 1.26195284e-01\n",
      " 1.27673500e-01 1.29152162e-01 1.30631181e-01 1.32110465e-01\n",
      " 1.33589927e-01 1.35069478e-01 1.36549034e-01 1.38028507e-01\n",
      " 1.39507814e-01 1.40986871e-01 1.42465594e-01 1.43943903e-01\n",
      " 1.45421715e-01 1.46898953e-01 1.48375535e-01 1.49851384e-01\n",
      " 1.51326422e-01 1.52800573e-01 1.54273761e-01 1.55745911e-01\n",
      " 1.57216949e-01 1.58686801e-01 1.60155396e-01 1.61622660e-01\n",
      " 1.63088524e-01 1.64552917e-01 1.66015769e-01 1.67477012e-01\n",
      " 1.68936577e-01 1.70394397e-01 1.71850406e-01 1.73304538e-01\n",
      " 1.74756727e-01 1.76206909e-01 1.77655020e-01 1.79100997e-01\n",
      " 1.80544777e-01 1.81986298e-01 1.83425500e-01 1.84862321e-01\n",
      " 1.86296701e-01 1.87728582e-01 1.89157905e-01 1.90584610e-01\n",
      " 1.92008642e-01 1.93429943e-01 1.94848456e-01 1.96264126e-01\n",
      " 1.97676898e-01 1.99086718e-01 2.00493530e-01 2.01897282e-01\n",
      " 2.03297921e-01 2.04695395e-01 2.06089651e-01 2.07480639e-01\n",
      " 2.08868308e-01 2.10252607e-01 2.11633487e-01 2.13010899e-01\n",
      " 2.14384794e-01 2.15755124e-01 2.17121841e-01 2.18484899e-01\n",
      " 2.19844251e-01 2.21199850e-01 2.22551651e-01 2.23899609e-01\n",
      " 2.25243679e-01 2.26583817e-01 2.27919979e-01 2.29252122e-01\n",
      " 2.30580203e-01 2.31904180e-01 2.33224011e-01 2.34539654e-01\n",
      " 2.35851069e-01 2.37158214e-01 2.38461051e-01 2.39759538e-01\n",
      " 2.41053637e-01 2.42343310e-01 2.43628516e-01 2.44909220e-01\n",
      " 2.46185383e-01 2.47456967e-01 2.48723937e-01 2.49986255e-01\n",
      " 2.51243887e-01 2.52496796e-01 2.53744947e-01 2.54988306e-01\n",
      " 2.56226838e-01 2.57460509e-01 2.58689286e-01 2.59913136e-01\n",
      " 2.61132025e-01 2.62345921e-01 2.63554793e-01 2.64758609e-01\n",
      " 2.65957337e-01 2.67150946e-01 2.68339406e-01 2.69522686e-01\n",
      " 2.70700757e-01 2.71873590e-01 2.73041154e-01 2.74203422e-01\n",
      " 2.75360364e-01 2.76511954e-01 2.77658162e-01 2.78798962e-01\n",
      " 2.79934326e-01 2.81064228e-01 2.82188641e-01 2.83307539e-01\n",
      " 2.84420897e-01 2.85528690e-01 2.86630891e-01 2.87727476e-01\n",
      " 2.88818421e-01 2.89903702e-01 2.90983294e-01 2.92057175e-01\n",
      " 2.93125321e-01 2.94187709e-01 2.95244317e-01 2.96295123e-01\n",
      " 2.97340104e-01 2.98379239e-01 2.99412506e-01 3.00439885e-01\n",
      " 3.01461354e-01 3.02476894e-01 3.03486484e-01 3.04490104e-01\n",
      " 3.05487735e-01 3.06479357e-01 3.07464951e-01 3.08444499e-01\n",
      " 3.09417982e-01 3.10385382e-01 3.11346681e-01 3.12301862e-01\n",
      " 3.13250907e-01 3.14193799e-01 3.15130522e-01 3.16061058e-01\n",
      " 3.16985392e-01 3.17903508e-01 3.18815389e-01 3.19721022e-01\n",
      " 3.20620389e-01 3.21513477e-01 3.22400271e-01 3.23280756e-01\n",
      " 3.24154918e-01 3.25022744e-01 3.25884219e-01 3.26739331e-01\n",
      " 3.27588066e-01 3.28430412e-01 3.29266355e-01 3.30095884e-01\n",
      " 3.30918986e-01 3.31735649e-01 3.32545862e-01 3.33349614e-01\n",
      " 3.34146893e-01 3.34937688e-01 3.35721989e-01 3.36499784e-01\n",
      " 3.37271065e-01 3.38035821e-01 3.38794042e-01 3.39545719e-01\n",
      " 3.40290843e-01 3.41029403e-01 3.41761393e-01 3.42486802e-01\n",
      " 3.43205624e-01 3.43917848e-01 3.44623469e-01 3.45322477e-01\n",
      " 3.46014866e-01 3.46700628e-01 3.47379756e-01 3.48052243e-01\n",
      " 3.48718084e-01 3.49377270e-01 3.50029797e-01 3.50675658e-01\n",
      " 3.51314848e-01 3.51947360e-01 3.52573190e-01 3.53192333e-01\n",
      " 3.53804783e-01 3.54410536e-01 3.55009588e-01 3.55601934e-01\n",
      " 3.56187570e-01 3.56766492e-01 3.57338696e-01 3.57904180e-01\n",
      " 3.58462939e-01 3.59014971e-01 3.59560272e-01 3.60098841e-01\n",
      " 3.60630674e-01 3.61155769e-01 3.61674125e-01 3.62185739e-01\n",
      " 3.62690609e-01 3.63188735e-01 3.63680114e-01 3.64164745e-01\n",
      " 3.64642628e-01 3.65113762e-01 3.65578146e-01 3.66035780e-01\n",
      " 3.66486663e-01 3.66930796e-01 3.67368179e-01 3.67798812e-01\n",
      " 3.68222695e-01 3.68639829e-01 3.69050215e-01 3.69453855e-01\n",
      " 3.69850749e-01 3.70240898e-01 3.70624305e-01 3.71000971e-01\n",
      " 3.71370898e-01 3.71734088e-01 3.72090544e-01 3.72440267e-01\n",
      " 3.72783261e-01 3.73119528e-01 3.73449071e-01 3.73771893e-01\n",
      " 3.74087998e-01 3.74397389e-01 3.74700070e-01 3.74996044e-01\n",
      " 3.75285316e-01 3.75567889e-01 3.75843768e-01 3.76112957e-01\n",
      " 3.76375461e-01 3.76631285e-01 3.76880433e-01 3.77122911e-01\n",
      " 3.77358724e-01 3.77587877e-01 3.77810376e-01 3.78026226e-01\n",
      " 3.78235434e-01 3.78438005e-01 3.78633946e-01 3.78823263e-01\n",
      " 3.79005962e-01 3.79182050e-01 3.79351534e-01 3.79514421e-01\n",
      " 3.79670718e-01 3.79820432e-01 3.79963570e-01 3.80100141e-01\n",
      " 3.80230151e-01 3.80353609e-01 3.80470522e-01 3.80580899e-01\n",
      " 3.80684748e-01 3.80782077e-01 3.80872894e-01 3.80957210e-01\n",
      " 3.81035031e-01 3.81106368e-01 3.81171230e-01 3.81229625e-01\n",
      " 3.81281563e-01 3.81327054e-01 3.81366107e-01 3.81398733e-01\n",
      " 3.81424940e-01 3.81444739e-01 3.81458141e-01 3.81465155e-01\n",
      " 3.81465793e-01 3.81460064e-01 3.81447980e-01 3.81429551e-01\n",
      " 3.81404789e-01 3.81373704e-01 3.81336308e-01 3.81292612e-01\n",
      " 3.81242628e-01 3.81186368e-01 3.81123842e-01 3.81055064e-01\n",
      " 3.80980045e-01 3.80898797e-01 3.80811333e-01 3.80717665e-01\n",
      " 3.80617805e-01 3.80511767e-01 3.80399562e-01 3.80281205e-01\n",
      " 3.80156707e-01 3.80026083e-01 3.79889345e-01 3.79746507e-01\n",
      " 3.79597582e-01 3.79442584e-01 3.79281527e-01 3.79114425e-01\n",
      " 3.78941291e-01 3.78762139e-01 3.78576985e-01 3.78385842e-01\n",
      " 3.78188724e-01 3.77985647e-01 3.77776625e-01 3.77561672e-01\n",
      " 3.77340804e-01 3.77114036e-01 3.76881382e-01 3.76642858e-01\n",
      " 3.76398480e-01 3.76148263e-01 3.75892222e-01 3.75630373e-01\n",
      " 3.75362732e-01 3.75089315e-01 3.74810138e-01 3.74525216e-01\n",
      " 3.74234567e-01 3.73938206e-01 3.73636150e-01 3.73328416e-01\n",
      " 3.73015019e-01 3.72695978e-01 3.72371308e-01 3.72041026e-01\n",
      " 3.71705151e-01 3.71363698e-01 3.71016685e-01 3.70664130e-01\n",
      " 3.70306050e-01 3.69942462e-01 3.69573384e-01 3.69198834e-01\n",
      " 3.68818830e-01 3.68433389e-01 3.68042531e-01 3.67646272e-01\n",
      " 3.67244631e-01 3.66837627e-01 3.66425278e-01 3.66007602e-01\n",
      " 3.65584618e-01 3.65156345e-01 3.64722801e-01 3.64284006e-01\n",
      " 3.63839979e-01 3.63390738e-01 3.62936302e-01 3.62476692e-01\n",
      " 3.62011926e-01 3.61542024e-01 3.61067006e-01 3.60586890e-01\n",
      " 3.60101697e-01 3.59611447e-01 3.59116159e-01 3.58615853e-01\n",
      " 3.58110550e-01 3.57600269e-01 3.57085031e-01 3.56564857e-01\n",
      " 3.56039766e-01 3.55509779e-01 3.54974916e-01 3.54435199e-01\n",
      " 3.53890648e-01 3.53341284e-01 3.52787128e-01 3.52228200e-01\n",
      " 3.51664522e-01 3.51096115e-01 3.50523000e-01 3.49945199e-01\n",
      " 3.49362732e-01 3.48775622e-01 3.48183890e-01 3.47587557e-01\n",
      " 3.46986646e-01 3.46381177e-01 3.45771173e-01 3.45156656e-01\n",
      " 3.44537648e-01 3.43914170e-01 3.43286246e-01 3.42653896e-01\n",
      " 3.42017144e-01 3.41376012e-01 3.40730522e-01 3.40080697e-01\n",
      " 3.39426559e-01 3.38768132e-01 3.38105437e-01 3.37438497e-01\n",
      " 3.36767337e-01 3.36091977e-01 3.35412442e-01 3.34728754e-01\n",
      " 3.34040937e-01 3.33349013e-01 3.32653007e-01 3.31952941e-01\n",
      " 3.31248839e-01 3.30540724e-01 3.29828620e-01 3.29112551e-01\n",
      " 3.28392539e-01 3.27668610e-01 3.26940786e-01 3.26209091e-01\n",
      " 3.25473550e-01 3.24734186e-01 3.23991024e-01 3.23244087e-01\n",
      " 3.22493400e-01 3.21738987e-01 3.20980872e-01 3.20219080e-01\n",
      " 3.19453635e-01 3.18684561e-01 3.17911883e-01 3.17135626e-01\n",
      " 3.16355814e-01 3.15572471e-01 3.14785624e-01 3.13995295e-01\n",
      " 3.13201512e-01 3.12404297e-01 3.11603676e-01 3.10799675e-01\n",
      " 3.09992318e-01 3.09181630e-01 3.08367638e-01 3.07550364e-01\n",
      " 3.06729836e-01 3.05906079e-01 3.05079117e-01 3.04248977e-01\n",
      " 3.03415683e-01 3.02579262e-01 3.01739739e-01 3.00897139e-01\n",
      " 3.00051489e-01 2.99202813e-01 2.98351139e-01 2.97496491e-01\n",
      " 2.96638895e-01 2.95778378e-01 2.94914965e-01 2.94048683e-01\n",
      " 2.93179557e-01 2.92307614e-01 2.91432879e-01 2.90555380e-01\n",
      " 2.89675141e-01 2.88792190e-01 2.87906553e-01 2.87018255e-01\n",
      " 2.86127325e-01 2.85233787e-01 2.84337668e-01 2.83438996e-01\n",
      " 2.82537796e-01 2.81634095e-01 2.80727920e-01 2.79819297e-01\n",
      " 2.78908254e-01 2.77994816e-01 2.77079011e-01 2.76160865e-01\n",
      " 2.75240406e-01 2.74317660e-01 2.73392655e-01 2.72465416e-01\n",
      " 2.71535972e-01 2.70604349e-01 2.69670574e-01 2.68734674e-01\n",
      " 2.67796677e-01 2.66856610e-01 2.65914500e-01 2.64970373e-01\n",
      " 2.64024258e-01 2.63076182e-01 2.62126172e-01 2.61174254e-01\n",
      " 2.60220458e-01 2.59264810e-01 2.58307337e-01 2.57348067e-01\n",
      " 2.56387027e-01 2.55424246e-01 2.54459750e-01 2.53493567e-01\n",
      " 2.52525725e-01 2.51556251e-01 2.50585172e-01 2.49612518e-01\n",
      " 2.48638314e-01 2.47662590e-01 2.46685372e-01 2.45706689e-01\n",
      " 2.44726568e-01 2.43745037e-01 2.42762123e-01 2.41777855e-01\n",
      " 2.40792261e-01 2.39805368e-01 2.38817205e-01 2.37827798e-01\n",
      " 2.36837176e-01 2.35845368e-01 2.34852400e-01 2.33858302e-01\n",
      " 2.32863100e-01 2.31866823e-01 2.30869500e-01 2.29871157e-01\n",
      " 2.28871823e-01 2.27871526e-01 2.26870295e-01 2.25868156e-01\n",
      " 2.24865139e-01 2.23861272e-01 2.22856582e-01 2.21851098e-01\n",
      " 2.20844847e-01 2.19837859e-01 2.18830161e-01 2.17821781e-01\n",
      " 2.16812747e-01 2.15803088e-01 2.14792832e-01 2.13782008e-01\n",
      " 2.12770642e-01 2.11758764e-01 2.10746401e-01 2.09733582e-01\n",
      " 2.08720336e-01 2.07706690e-01 2.06692672e-01 2.05678311e-01\n",
      " 2.04663635e-01 2.03648672e-01 2.02633451e-01 2.01617999e-01\n",
      " 2.00602346e-01 1.99586518e-01 1.98570545e-01 1.97554455e-01\n",
      " 1.96538275e-01 1.95522034e-01 1.94505761e-01 1.93489483e-01\n",
      " 1.92473229e-01 1.91457027e-01 1.90440904e-01 1.89424890e-01\n",
      " 1.88409013e-01 1.87393300e-01 1.86377781e-01 1.85362482e-01\n",
      " 1.84347432e-01 1.83332660e-01 1.82318193e-01 1.81304059e-01\n",
      " 1.80290288e-01 1.79276906e-01 1.78263942e-01 1.77251424e-01\n",
      " 1.76239380e-01 1.75227838e-01 1.74216826e-01 1.73206373e-01\n",
      " 1.72196505e-01 1.71187252e-01 1.70178641e-01 1.69170700e-01\n",
      " 1.68163457e-01 1.67156940e-01 1.66151176e-01 1.65146195e-01\n",
      " 1.64142023e-01 1.63138689e-01 1.62136220e-01 1.61134644e-01\n",
      " 1.60133988e-01 1.59134282e-01 1.58135552e-01 1.57137826e-01\n",
      " 1.56141131e-01 1.55145497e-01 1.54150949e-01 1.53157515e-01\n",
      " 1.52165224e-01 1.51174103e-01 1.50184179e-01 1.49195480e-01\n",
      " 1.48208034e-01 1.47221866e-01 1.46237006e-01 1.45253481e-01\n",
      " 1.44271317e-01 1.43290543e-01 1.42311184e-01 1.41333270e-01\n",
      " 1.40356826e-01 1.39381881e-01 1.38408460e-01 1.37436592e-01\n",
      " 1.36466303e-01 1.35497620e-01 1.34530571e-01 1.33565182e-01\n",
      " 1.32601480e-01 1.31639492e-01 1.30679244e-01 1.29720765e-01\n",
      " 1.28764080e-01 1.27809215e-01 1.26856199e-01 1.25905057e-01\n",
      " 1.24955815e-01 1.24008501e-01 1.23063141e-01 1.22119761e-01\n",
      " 1.21178388e-01 1.20239047e-01 1.19301766e-01 1.18366570e-01\n",
      " 1.17433485e-01 1.16502538e-01 1.15573755e-01 1.14647162e-01\n",
      " 1.13722784e-01 1.12800648e-01 1.11880779e-01 1.10963203e-01\n",
      " 1.10047947e-01 1.09135034e-01 1.08224492e-01 1.07316346e-01\n",
      " 1.06410621e-01 1.05507342e-01 1.04606536e-01 1.03708227e-01\n",
      " 1.02812440e-01 1.01919201e-01 1.01028534e-01 1.00140466e-01\n",
      " 9.92550197e-02 9.83722214e-02 9.74920957e-02 9.66146671e-02\n",
      " 9.57399605e-02 9.48680004e-02 9.39988113e-02 9.31324178e-02\n",
      " 9.22688442e-02 9.14081149e-02 9.05502539e-02 8.96952857e-02\n",
      " 8.88432341e-02 8.79941233e-02 8.71479770e-02 8.63048193e-02\n",
      " 8.54646738e-02 8.46275642e-02 8.37935141e-02 8.29625469e-02\n",
      " 8.21346862e-02 8.13099553e-02 8.04883773e-02 7.96699755e-02\n",
      " 7.88547729e-02 7.80427924e-02 7.72340570e-02 7.64285894e-02\n",
      " 7.56264124e-02 7.48275484e-02 7.40320201e-02 7.32398498e-02\n",
      " 7.24510598e-02 7.16656722e-02 7.08837093e-02 7.01051930e-02\n",
      " 6.93301451e-02 6.85585875e-02 6.77905419e-02 6.70260298e-02\n",
      " 6.62650726e-02 6.55076918e-02 6.47539085e-02 6.40037439e-02\n",
      " 6.32572191e-02 6.25143548e-02 6.17751720e-02 6.10396912e-02\n",
      " 6.03079330e-02 5.95799179e-02 5.88556660e-02 5.81351978e-02\n",
      " 5.74185330e-02 5.67056918e-02 5.59966940e-02 5.52915591e-02\n",
      " 5.45903067e-02 5.38929563e-02 5.31995271e-02 5.25100384e-02\n",
      " 5.18245090e-02 5.11429579e-02 5.04654037e-02 4.97918652e-02\n",
      " 4.91223607e-02 4.84569086e-02 4.77955270e-02 4.71382339e-02\n",
      " 4.64850473e-02 4.58359847e-02 4.51910638e-02 4.45503021e-02\n",
      " 4.39137166e-02 4.32813246e-02 4.26531430e-02 4.20291885e-02\n",
      " 4.14094778e-02 4.07940272e-02 4.01828532e-02 3.95759718e-02\n",
      " 3.89733989e-02 3.83751503e-02 3.77812416e-02 3.71916883e-02\n",
      " 3.66065055e-02 3.60257083e-02 3.54493116e-02 3.48773300e-02\n",
      " 3.43097781e-02 3.37466702e-02 3.31880204e-02 3.26338426e-02\n",
      " 3.20841506e-02 3.15389578e-02 3.09982776e-02 3.04621231e-02\n",
      " 2.99305073e-02 2.94034427e-02 2.88809420e-02 2.83630173e-02\n",
      " 2.78496809e-02 2.73409443e-02 2.68368194e-02 2.63373175e-02\n",
      " 2.58424498e-02 2.53522271e-02 2.48666602e-02 2.43857595e-02\n",
      " 2.39095352e-02 2.34379974e-02 2.29711557e-02 2.25090196e-02\n",
      " 2.20515983e-02 2.15989008e-02 2.11509358e-02 2.07077117e-02\n",
      " 2.02692367e-02 1.98355187e-02 1.94065652e-02 1.89823837e-02\n",
      " 1.85629811e-02 1.81483642e-02 1.77385396e-02 1.73335134e-02\n",
      " 1.69332914e-02 1.65378792e-02 1.61472821e-02 1.57615050e-02\n",
      " 1.53805526e-02 1.50044291e-02 1.46331385e-02 1.42666845e-02\n",
      " 1.39050703e-02 1.35482988e-02 1.31963728e-02 1.28492943e-02\n",
      " 1.25070654e-02 1.21696874e-02 1.18371616e-02 1.15094886e-02\n",
      " 1.11866689e-02 1.08687023e-02 1.05555886e-02 1.02473267e-02\n",
      " 9.94391552e-03 9.64535329e-03 9.35163791e-03 9.06276682e-03\n",
      " 8.77873701e-03 8.49954501e-03 8.22518690e-03 7.95565827e-03\n",
      " 7.69095422e-03 7.43106936e-03 7.17599782e-03 6.92573316e-03\n",
      " 6.68026847e-03 6.43959627e-03 6.20370853e-03 5.97259668e-03\n",
      " 5.74625155e-03 5.52466339e-03 5.30782185e-03 5.09571597e-03\n",
      " 4.88833415e-03 4.68566415e-03 4.48769306e-03 4.29440729e-03\n",
      " 4.10579255e-03 3.92183385e-03 3.74251544e-03 3.56782083e-03\n",
      " 3.39773275e-03 3.23223313e-03 3.07130306e-03 2.91492281e-03\n",
      " 2.76307174e-03 2.61572834e-03 2.47287014e-03 2.33447373e-03\n",
      " 2.20051468e-03 2.07096754e-03 1.94580580e-03 1.82500182e-03\n",
      " 1.70852682e-03 1.59635083e-03 1.48844262e-03 1.38476968e-03\n",
      " 1.28529813e-03 1.18999269e-03 1.09881659e-03 1.01173153e-03\n",
      " 9.28697546e-04 8.49673003e-04 7.74614445e-04 7.03476518e-04\n",
      " 6.36211851e-04 5.72770940e-04 5.13102009e-04 4.57150855e-04\n",
      " 4.04860683e-04 3.56171909e-04 3.11021944e-04 2.69344943e-04\n",
      " 2.31071519e-04 1.96128404e-04 1.64438062e-04 1.35918219e-04\n",
      " 1.10481305e-04 8.80337712e-05 6.84752417e-05 5.16974421e-05\n",
      " 3.75828068e-05 2.60026158e-05 1.68144035e-05 9.85816649e-06\n",
      " 4.95041027e-06 1.87378381e-06 3.55585551e-07 0.00000000e+00]\n",
      "[0.00000000e+00 8.91761131e-05 2.69681784e-04 5.14697027e-04\n",
      " 8.13591907e-04 1.15988403e-03 1.54901434e-03 1.97751651e-03\n",
      " 2.44262046e-03 2.94203423e-03 3.47381223e-03 4.03626994e-03\n",
      " 4.62792594e-03 5.24746076e-03 5.89368676e-03 6.56552547e-03\n",
      " 7.26199014e-03 7.98217206e-03 8.72522964e-03 9.49037958e-03\n",
      " 1.02768897e-02 1.10840726e-02 1.19112813e-02 1.27579043e-02\n",
      " 1.36233622e-02 1.45071049e-02 1.54086082e-02 1.63273724e-02\n",
      " 1.72629194e-02 1.82147913e-02 1.91825488e-02 2.01657699e-02\n",
      " 2.11640483e-02 2.21769924e-02 2.32042245e-02 2.42453798e-02\n",
      " 2.53001054e-02 2.63680596e-02 2.74489114e-02 2.85423397e-02\n",
      " 2.96480329e-02 3.07656881e-02 3.18950109e-02 3.30357150e-02\n",
      " 3.41875213e-02 3.53501582e-02 3.65233607e-02 3.77068704e-02\n",
      " 3.89004352e-02 4.01038088e-02 4.13167504e-02 4.25390250e-02\n",
      " 4.37704024e-02 4.50106577e-02 4.62595705e-02 4.75169251e-02\n",
      " 4.87825104e-02 5.00561191e-02 5.13375485e-02 5.26265993e-02\n",
      " 5.39230765e-02 5.52267883e-02 5.65375469e-02 5.78551676e-02\n",
      " 5.91794690e-02 6.05102732e-02 6.18474049e-02 6.31906924e-02\n",
      " 6.45399663e-02 6.58950606e-02 6.72558115e-02 6.86220583e-02\n",
      " 6.99936427e-02 7.13704088e-02 7.27522032e-02 7.41388751e-02\n",
      " 7.55302757e-02 7.69262586e-02 7.83266796e-02 7.97313966e-02\n",
      " 8.11402696e-02 8.25531606e-02 8.39699335e-02 8.53904544e-02\n",
      " 8.68145910e-02 8.82422129e-02 8.96731918e-02 9.11074006e-02\n",
      " 9.25447145e-02 9.39850100e-02 9.54281654e-02 9.68740606e-02\n",
      " 9.83225770e-02 9.97735976e-02 1.01227007e-01 1.02682691e-01\n",
      " 1.04140537e-01 1.05600434e-01 1.07062273e-01 1.08525944e-01\n",
      " 1.09991342e-01 1.11458359e-01 1.12926893e-01 1.14396839e-01\n",
      " 1.15868095e-01 1.17340562e-01 1.18814139e-01 1.20288729e-01\n",
      " 1.21764233e-01 1.23240557e-01 1.24717605e-01 1.26195284e-01\n",
      " 1.27673500e-01 1.29152162e-01 1.30631181e-01 1.32110465e-01\n",
      " 1.33589927e-01 1.35069478e-01 1.36549034e-01 1.38028507e-01\n",
      " 1.39507814e-01 1.40986871e-01 1.42465594e-01 1.43943903e-01\n",
      " 1.45421715e-01 1.46898953e-01 1.48375535e-01 1.49851384e-01\n",
      " 1.51326422e-01 1.52800573e-01 1.54273761e-01 1.55745911e-01\n",
      " 1.57216949e-01 1.58686801e-01 1.60155396e-01 1.61622660e-01\n",
      " 1.63088524e-01 1.64552917e-01 1.66015769e-01 1.67477012e-01\n",
      " 1.68936577e-01 1.70394397e-01 1.71850406e-01 1.73304538e-01\n",
      " 1.74756727e-01 1.76206909e-01 1.77655020e-01 1.79100997e-01\n",
      " 1.80544777e-01 1.81986298e-01 1.83425500e-01 1.84862321e-01\n",
      " 1.86296701e-01 1.87728582e-01 1.89157905e-01 1.90584610e-01\n",
      " 1.92008642e-01 1.93429943e-01 1.94848456e-01 1.96264126e-01\n",
      " 1.97676898e-01 1.99086718e-01 2.00493530e-01 2.01897282e-01\n",
      " 2.03297921e-01 2.04695395e-01 2.06089651e-01 2.07480639e-01\n",
      " 2.08868308e-01 2.10252607e-01 2.11633487e-01 2.13010899e-01\n",
      " 2.14384794e-01 2.15755124e-01 2.17121841e-01 2.18484899e-01\n",
      " 2.19844251e-01 2.21199850e-01 2.22551651e-01 2.23899609e-01\n",
      " 2.25243679e-01 2.26583817e-01 2.27919979e-01 2.29252122e-01\n",
      " 2.30580203e-01 2.31904180e-01 2.33224011e-01 2.34539654e-01\n",
      " 2.35851069e-01 2.37158214e-01 2.38461051e-01 2.39759538e-01\n",
      " 2.41053637e-01 2.42343310e-01 2.43628516e-01 2.44909220e-01\n",
      " 2.46185383e-01 2.47456967e-01 2.48723937e-01 2.49986255e-01\n",
      " 2.51243887e-01 2.52496796e-01 2.53744947e-01 2.54988306e-01\n",
      " 2.56226838e-01 2.57460509e-01 2.58689286e-01 2.59913136e-01\n",
      " 2.61132025e-01 2.62345921e-01 2.63554793e-01 2.64758609e-01\n",
      " 2.65957337e-01 2.67150946e-01 2.68339406e-01 2.69522686e-01\n",
      " 2.70700757e-01 2.71873590e-01 2.73041154e-01 2.74203422e-01\n",
      " 2.75360364e-01 2.76511954e-01 2.77658162e-01 2.78798962e-01\n",
      " 2.79934326e-01 2.81064228e-01 2.82188641e-01 2.83307539e-01\n",
      " 2.84420897e-01 2.85528690e-01 2.86630891e-01 2.87727476e-01\n",
      " 2.88818421e-01 2.89903702e-01 2.90983294e-01 2.92057175e-01\n",
      " 2.93125321e-01 2.94187709e-01 2.95244317e-01 2.96295123e-01\n",
      " 2.97340104e-01 2.98379239e-01 2.99412506e-01 3.00439885e-01\n",
      " 3.01461354e-01 3.02476894e-01 3.03486484e-01 3.04490104e-01\n",
      " 3.05487735e-01 3.06479357e-01 3.07464951e-01 3.08444499e-01\n",
      " 3.09417982e-01 3.10385382e-01 3.11346681e-01 3.12301862e-01\n",
      " 3.13250907e-01 3.14193799e-01 3.15130522e-01 3.16061058e-01\n",
      " 3.16985392e-01 3.17903508e-01 3.18815389e-01 3.19721022e-01\n",
      " 3.20620389e-01 3.21513477e-01 3.22400271e-01 3.23280756e-01\n",
      " 3.24154918e-01 3.25022744e-01 3.25884219e-01 3.26739331e-01\n",
      " 3.27588066e-01 3.28430412e-01 3.29266355e-01 3.30095884e-01\n",
      " 3.30918986e-01 3.31735649e-01 3.32545862e-01 3.33349614e-01\n",
      " 3.34146893e-01 3.34937688e-01 3.35721989e-01 3.36499784e-01\n",
      " 3.37271065e-01 3.38035821e-01 3.38794042e-01 3.39545719e-01\n",
      " 3.40290843e-01 3.41029403e-01 3.41761393e-01 3.42486802e-01\n",
      " 3.43205624e-01 3.43917848e-01 3.44623469e-01 3.45322477e-01\n",
      " 3.46014866e-01 3.46700628e-01 3.47379756e-01 3.48052243e-01\n",
      " 3.48718084e-01 3.49377270e-01 3.50029797e-01 3.50675658e-01\n",
      " 3.51314848e-01 3.51947360e-01 3.52573190e-01 3.53192333e-01\n",
      " 3.53804783e-01 3.54410536e-01 3.55009588e-01 3.55601934e-01\n",
      " 3.56187570e-01 3.56766492e-01 3.57338696e-01 3.57904180e-01\n",
      " 3.58462939e-01 3.59014971e-01 3.59560272e-01 3.60098841e-01\n",
      " 3.60630674e-01 3.61155769e-01 3.61674125e-01 3.62185739e-01\n",
      " 3.62690609e-01 3.63188735e-01 3.63680114e-01 3.64164745e-01\n",
      " 3.64642628e-01 3.65113762e-01 3.65578146e-01 3.66035780e-01\n",
      " 3.66486663e-01 3.66930796e-01 3.67368179e-01 3.67798812e-01\n",
      " 3.68222695e-01 3.68639829e-01 3.69050215e-01 3.69453855e-01\n",
      " 3.69850749e-01 3.70240898e-01 3.70624305e-01 3.71000971e-01\n",
      " 3.71370898e-01 3.71734088e-01 3.72090544e-01 3.72440267e-01\n",
      " 3.72783261e-01 3.73119528e-01 3.73449071e-01 3.73771893e-01\n",
      " 3.74087998e-01 3.74397389e-01 3.74700070e-01 3.74996044e-01\n",
      " 3.75285316e-01 3.75567889e-01 3.75843768e-01 3.76112957e-01\n",
      " 3.76375461e-01 3.76631285e-01 3.76880433e-01 3.77122911e-01\n",
      " 3.77358724e-01 3.77587877e-01 3.77810376e-01 3.78026226e-01\n",
      " 3.78235434e-01 3.78438005e-01 3.78633946e-01 3.78823263e-01\n",
      " 3.79005962e-01 3.79182050e-01 3.79351534e-01 3.79514421e-01\n",
      " 3.79670718e-01 3.79820432e-01 3.79963570e-01 3.80100141e-01\n",
      " 3.80230151e-01 3.80353609e-01 3.80470522e-01 3.80580899e-01\n",
      " 3.80684748e-01 3.80782077e-01 3.80872894e-01 3.80957210e-01\n",
      " 3.81035031e-01 3.81106368e-01 3.81171230e-01 3.81229625e-01\n",
      " 3.81281563e-01 3.81327054e-01 3.81366107e-01 3.81398733e-01\n",
      " 3.81424940e-01 3.81444739e-01 3.81458141e-01 3.81465155e-01\n",
      " 3.81465793e-01 3.81460064e-01 3.81447980e-01 3.81429551e-01\n",
      " 3.81404789e-01 3.81373704e-01 3.81336308e-01 3.81292612e-01\n",
      " 3.81242628e-01 3.81186368e-01 3.81123842e-01 3.81055064e-01\n",
      " 3.80980045e-01 3.80898797e-01 3.80811333e-01 3.80717665e-01\n",
      " 3.80617805e-01 3.80511767e-01 3.80399562e-01 3.80281205e-01\n",
      " 3.80156707e-01 3.80026083e-01 3.79889345e-01 3.79746507e-01\n",
      " 3.79597582e-01 3.79442584e-01 3.79281527e-01 3.79114425e-01\n",
      " 3.78941291e-01 3.78762139e-01 3.78576985e-01 3.78385842e-01\n",
      " 3.78188724e-01 3.77985647e-01 3.77776625e-01 3.77561672e-01\n",
      " 3.77340804e-01 3.77114036e-01 3.76881382e-01 3.76642858e-01\n",
      " 3.76398480e-01 3.76148263e-01 3.75892222e-01 3.75630373e-01\n",
      " 3.75362732e-01 3.75089315e-01 3.74810138e-01 3.74525216e-01\n",
      " 3.74234567e-01 3.73938206e-01 3.73636150e-01 3.73328416e-01\n",
      " 3.73015019e-01 3.72695978e-01 3.72371308e-01 3.72041026e-01\n",
      " 3.71705151e-01 3.71363698e-01 3.71016685e-01 3.70664130e-01\n",
      " 3.70306050e-01 3.69942462e-01 3.69573384e-01 3.69198834e-01\n",
      " 3.68818830e-01 3.68433389e-01 3.68042531e-01 3.67646272e-01\n",
      " 3.67244631e-01 3.66837627e-01 3.66425278e-01 3.66007602e-01\n",
      " 3.65584618e-01 3.65156345e-01 3.64722801e-01 3.64284006e-01\n",
      " 3.63839979e-01 3.63390738e-01 3.62936302e-01 3.62476692e-01\n",
      " 3.62011926e-01 3.61542024e-01 3.61067006e-01 3.60586890e-01\n",
      " 3.60101697e-01 3.59611447e-01 3.59116159e-01 3.58615853e-01\n",
      " 3.58110550e-01 3.57600269e-01 3.57085031e-01 3.56564857e-01\n",
      " 3.56039766e-01 3.55509779e-01 3.54974916e-01 3.54435199e-01\n",
      " 3.53890648e-01 3.53341284e-01 3.52787128e-01 3.52228200e-01\n",
      " 3.51664522e-01 3.51096115e-01 3.50523000e-01 3.49945199e-01\n",
      " 3.49362732e-01 3.48775622e-01 3.48183890e-01 3.47587557e-01\n",
      " 3.46986646e-01 3.46381177e-01 3.45771173e-01 3.45156656e-01\n",
      " 3.44537648e-01 3.43914170e-01 3.43286246e-01 3.42653896e-01\n",
      " 3.42017144e-01 3.41376012e-01 3.40730522e-01 3.40080697e-01\n",
      " 3.39426559e-01 3.38768132e-01 3.38105437e-01 3.37438497e-01\n",
      " 3.36767337e-01 3.36091977e-01 3.35412442e-01 3.34728754e-01\n",
      " 3.34040937e-01 3.33349013e-01 3.32653007e-01 3.31952941e-01\n",
      " 3.31248839e-01 3.30540724e-01 3.29828620e-01 3.29112551e-01\n",
      " 3.28392539e-01 3.27668610e-01 3.26940786e-01 3.26209091e-01\n",
      " 3.25473550e-01 3.24734186e-01 3.23991024e-01 3.23244087e-01\n",
      " 3.22493400e-01 3.21738987e-01 3.20980872e-01 3.20219080e-01\n",
      " 3.19453635e-01 3.18684561e-01 3.17911883e-01 3.17135626e-01\n",
      " 3.16355814e-01 3.15572471e-01 3.14785624e-01 3.13995295e-01\n",
      " 3.13201512e-01 3.12404297e-01 3.11603676e-01 3.10799675e-01\n",
      " 3.09992318e-01 3.09181630e-01 3.08367638e-01 3.07550364e-01\n",
      " 3.06729836e-01 3.05906079e-01 3.05079117e-01 3.04248977e-01\n",
      " 3.03415683e-01 3.02579262e-01 3.01739739e-01 3.00897139e-01\n",
      " 3.00051489e-01 2.99202813e-01 2.98351139e-01 2.97496491e-01\n",
      " 2.96638895e-01 2.95778378e-01 2.94914965e-01 2.94048683e-01\n",
      " 2.93179557e-01 2.92307614e-01 2.91432879e-01 2.90555380e-01\n",
      " 2.89675141e-01 2.88792190e-01 2.87906553e-01 2.87018255e-01\n",
      " 2.86127325e-01 2.85233787e-01 2.84337668e-01 2.83438996e-01\n",
      " 2.82537796e-01 2.81634095e-01 2.80727920e-01 2.79819297e-01\n",
      " 2.78908254e-01 2.77994816e-01 2.77079011e-01 2.76160865e-01\n",
      " 2.75240406e-01 2.74317660e-01 2.73392655e-01 2.72465416e-01\n",
      " 2.71535972e-01 2.70604349e-01 2.69670574e-01 2.68734674e-01\n",
      " 2.67796677e-01 2.66856610e-01 2.65914500e-01 2.64970373e-01\n",
      " 2.64024258e-01 2.63076182e-01 2.62126172e-01 2.61174254e-01\n",
      " 2.60220458e-01 2.59264810e-01 2.58307337e-01 2.57348067e-01\n",
      " 2.56387027e-01 2.55424246e-01 2.54459750e-01 2.53493567e-01\n",
      " 2.52525725e-01 2.51556251e-01 2.50585172e-01 2.49612518e-01\n",
      " 2.48638314e-01 2.47662590e-01 2.46685372e-01 2.45706689e-01\n",
      " 2.44726568e-01 2.43745037e-01 2.42762123e-01 2.41777855e-01\n",
      " 2.40792261e-01 2.39805368e-01 2.38817205e-01 2.37827798e-01\n",
      " 2.36837176e-01 2.35845368e-01 2.34852400e-01 2.33858302e-01\n",
      " 2.32863100e-01 2.31866823e-01 2.30869500e-01 2.29871157e-01\n",
      " 2.28871823e-01 2.27871526e-01 2.26870295e-01 2.25868156e-01\n",
      " 2.24865139e-01 2.23861272e-01 2.22856582e-01 2.21851098e-01\n",
      " 2.20844847e-01 2.19837859e-01 2.18830161e-01 2.17821781e-01\n",
      " 2.16812747e-01 2.15803088e-01 2.14792832e-01 2.13782008e-01\n",
      " 2.12770642e-01 2.11758764e-01 2.10746401e-01 2.09733582e-01\n",
      " 2.08720336e-01 2.07706690e-01 2.06692672e-01 2.05678311e-01\n",
      " 2.04663635e-01 2.03648672e-01 2.02633451e-01 2.01617999e-01\n",
      " 2.00602346e-01 1.99586518e-01 1.98570545e-01 1.97554455e-01\n",
      " 1.96538275e-01 1.95522034e-01 1.94505761e-01 1.93489483e-01\n",
      " 1.92473229e-01 1.91457027e-01 1.90440904e-01 1.89424890e-01\n",
      " 1.88409013e-01 1.87393300e-01 1.86377781e-01 1.85362482e-01\n",
      " 1.84347432e-01 1.83332660e-01 1.82318193e-01 1.81304059e-01\n",
      " 1.80290288e-01 1.79276906e-01 1.78263942e-01 1.77251424e-01\n",
      " 1.76239380e-01 1.75227838e-01 1.74216826e-01 1.73206373e-01\n",
      " 1.72196505e-01 1.71187252e-01 1.70178641e-01 1.69170700e-01\n",
      " 1.68163457e-01 1.67156940e-01 1.66151176e-01 1.65146195e-01\n",
      " 1.64142023e-01 1.63138689e-01 1.62136220e-01 1.61134644e-01\n",
      " 1.60133988e-01 1.59134282e-01 1.58135552e-01 1.57137826e-01\n",
      " 1.56141131e-01 1.55145497e-01 1.54150949e-01 1.53157515e-01\n",
      " 1.52165224e-01 1.51174103e-01 1.50184179e-01 1.49195480e-01\n",
      " 1.48208034e-01 1.47221866e-01 1.46237006e-01 1.45253481e-01\n",
      " 1.44271317e-01 1.43290543e-01 1.42311184e-01 1.41333270e-01\n",
      " 1.40356826e-01 1.39381881e-01 1.38408460e-01 1.37436592e-01\n",
      " 1.36466303e-01 1.35497620e-01 1.34530571e-01 1.33565182e-01\n",
      " 1.32601480e-01 1.31639492e-01 1.30679244e-01 1.29720765e-01\n",
      " 1.28764080e-01 1.27809215e-01 1.26856199e-01 1.25905057e-01\n",
      " 1.24955815e-01 1.24008501e-01 1.23063141e-01 1.22119761e-01\n",
      " 1.21178388e-01 1.20239047e-01 1.19301766e-01 1.18366570e-01\n",
      " 1.17433485e-01 1.16502538e-01 1.15573755e-01 1.14647162e-01\n",
      " 1.13722784e-01 1.12800648e-01 1.11880779e-01 1.10963203e-01\n",
      " 1.10047947e-01 1.09135034e-01 1.08224492e-01 1.07316346e-01\n",
      " 1.06410621e-01 1.05507342e-01 1.04606536e-01 1.03708227e-01\n",
      " 1.02812440e-01 1.01919201e-01 1.01028534e-01 1.00140466e-01\n",
      " 9.92550197e-02 9.83722214e-02 9.74920957e-02 9.66146671e-02\n",
      " 9.57399605e-02 9.48680004e-02 9.39988113e-02 9.31324178e-02\n",
      " 9.22688442e-02 9.14081149e-02 9.05502539e-02 8.96952857e-02\n",
      " 8.88432341e-02 8.79941233e-02 8.71479770e-02 8.63048193e-02\n",
      " 8.54646738e-02 8.46275642e-02 8.37935141e-02 8.29625469e-02\n",
      " 8.21346862e-02 8.13099553e-02 8.04883773e-02 7.96699755e-02\n",
      " 7.88547729e-02 7.80427924e-02 7.72340570e-02 7.64285894e-02\n",
      " 7.56264124e-02 7.48275484e-02 7.40320201e-02 7.32398498e-02\n",
      " 7.24510598e-02 7.16656722e-02 7.08837093e-02 7.01051930e-02\n",
      " 6.93301451e-02 6.85585875e-02 6.77905419e-02 6.70260298e-02\n",
      " 6.62650726e-02 6.55076918e-02 6.47539085e-02 6.40037439e-02\n",
      " 6.32572191e-02 6.25143548e-02 6.17751720e-02 6.10396912e-02\n",
      " 6.03079330e-02 5.95799179e-02 5.88556660e-02 5.81351978e-02\n",
      " 5.74185330e-02 5.67056918e-02 5.59966940e-02 5.52915591e-02\n",
      " 5.45903067e-02 5.38929563e-02 5.31995271e-02 5.25100384e-02\n",
      " 5.18245090e-02 5.11429579e-02 5.04654037e-02 4.97918652e-02\n",
      " 4.91223607e-02 4.84569086e-02 4.77955270e-02 4.71382339e-02\n",
      " 4.64850473e-02 4.58359847e-02 4.51910638e-02 4.45503021e-02\n",
      " 4.39137166e-02 4.32813246e-02 4.26531430e-02 4.20291885e-02\n",
      " 4.14094778e-02 4.07940272e-02 4.01828532e-02 3.95759718e-02\n",
      " 3.89733989e-02 3.83751503e-02 3.77812416e-02 3.71916883e-02\n",
      " 3.66065055e-02 3.60257083e-02 3.54493116e-02 3.48773300e-02\n",
      " 3.43097781e-02 3.37466702e-02 3.31880204e-02 3.26338426e-02\n",
      " 3.20841506e-02 3.15389578e-02 3.09982776e-02 3.04621231e-02\n",
      " 2.99305073e-02 2.94034427e-02 2.88809420e-02 2.83630173e-02\n",
      " 2.78496809e-02 2.73409443e-02 2.68368194e-02 2.63373175e-02\n",
      " 2.58424498e-02 2.53522271e-02 2.48666602e-02 2.43857595e-02\n",
      " 2.39095352e-02 2.34379974e-02 2.29711557e-02 2.25090196e-02\n",
      " 2.20515983e-02 2.15989008e-02 2.11509358e-02 2.07077117e-02\n",
      " 2.02692367e-02 1.98355187e-02 1.94065652e-02 1.89823837e-02\n",
      " 1.85629811e-02 1.81483642e-02 1.77385396e-02 1.73335134e-02\n",
      " 1.69332914e-02 1.65378792e-02 1.61472821e-02 1.57615050e-02\n",
      " 1.53805526e-02 1.50044291e-02 1.46331385e-02 1.42666845e-02\n",
      " 1.39050703e-02 1.35482988e-02 1.31963728e-02 1.28492943e-02\n",
      " 1.25070654e-02 1.21696874e-02 1.18371616e-02 1.15094886e-02\n",
      " 1.11866689e-02 1.08687023e-02 1.05555886e-02 1.02473267e-02\n",
      " 9.94391552e-03 9.64535329e-03 9.35163791e-03 9.06276682e-03\n",
      " 8.77873701e-03 8.49954501e-03 8.22518690e-03 7.95565827e-03\n",
      " 7.69095422e-03 7.43106936e-03 7.17599782e-03 6.92573316e-03\n",
      " 6.68026847e-03 6.43959627e-03 6.20370853e-03 5.97259668e-03\n",
      " 5.74625155e-03 5.52466339e-03 5.30782185e-03 5.09571597e-03\n",
      " 4.88833415e-03 4.68566415e-03 4.48769306e-03 4.29440729e-03\n",
      " 4.10579255e-03 3.92183385e-03 3.74251544e-03 3.56782083e-03\n",
      " 3.39773275e-03 3.23223313e-03 3.07130306e-03 2.91492281e-03\n",
      " 2.76307174e-03 2.61572834e-03 2.47287014e-03 2.33447373e-03\n",
      " 2.20051468e-03 2.07096754e-03 1.94580580e-03 1.82500182e-03\n",
      " 1.70852682e-03 1.59635083e-03 1.48844262e-03 1.38476968e-03\n",
      " 1.28529813e-03 1.18999269e-03 1.09881659e-03 1.01173153e-03\n",
      " 9.28697546e-04 8.49673003e-04 7.74614445e-04 7.03476518e-04\n",
      " 6.36211851e-04 5.72770940e-04 5.13102009e-04 4.57150855e-04\n",
      " 4.04860683e-04 3.56171909e-04 3.11021944e-04 2.69344943e-04\n",
      " 2.31071519e-04 1.96128404e-04 1.64438062e-04 1.35918219e-04\n",
      " 1.10481305e-04 8.80337712e-05 6.84752417e-05 5.16974421e-05\n",
      " 3.75828068e-05 2.60026158e-05 1.68144035e-05 9.85816649e-06\n",
      " 4.95041027e-06 1.87378381e-06 3.55585551e-07 0.00000000e+00]\n",
      "[0.00000000e+00 8.91761131e-05 2.69681784e-04 5.14697027e-04\n",
      " 8.13591907e-04 1.15988403e-03 1.54901434e-03 1.97751651e-03\n",
      " 2.44262046e-03 2.94203423e-03 3.47381223e-03 4.03626994e-03\n",
      " 4.62792594e-03 5.24746076e-03 5.89368676e-03 6.56552547e-03\n",
      " 7.26199014e-03 7.98217206e-03 8.72522964e-03 9.49037958e-03\n",
      " 1.02768897e-02 1.10840726e-02 1.19112813e-02 1.27579043e-02\n",
      " 1.36233622e-02 1.45071049e-02 1.54086082e-02 1.63273724e-02\n",
      " 1.72629194e-02 1.82147913e-02 1.91825488e-02 2.01657699e-02\n",
      " 2.11640483e-02 2.21769924e-02 2.32042245e-02 2.42453798e-02\n",
      " 2.53001054e-02 2.63680596e-02 2.74489114e-02 2.85423397e-02\n",
      " 2.96480329e-02 3.07656881e-02 3.18950109e-02 3.30357150e-02\n",
      " 3.41875213e-02 3.53501582e-02 3.65233607e-02 3.77068704e-02\n",
      " 3.89004352e-02 4.01038088e-02 4.13167504e-02 4.25390250e-02\n",
      " 4.37704024e-02 4.50106577e-02 4.62595705e-02 4.75169251e-02\n",
      " 4.87825104e-02 5.00561191e-02 5.13375485e-02 5.26265993e-02\n",
      " 5.39230765e-02 5.52267883e-02 5.65375469e-02 5.78551676e-02\n",
      " 5.91794690e-02 6.05102732e-02 6.18474049e-02 6.31906924e-02\n",
      " 6.45399663e-02 6.58950606e-02 6.72558115e-02 6.86220583e-02\n",
      " 6.99936427e-02 7.13704088e-02 7.27522032e-02 7.41388751e-02\n",
      " 7.55302757e-02 7.69262586e-02 7.83266796e-02 7.97313966e-02\n",
      " 8.11402696e-02 8.25531606e-02 8.39699335e-02 8.53904544e-02\n",
      " 8.68145910e-02 8.82422129e-02 8.96731918e-02 9.11074006e-02\n",
      " 9.25447145e-02 9.39850100e-02 9.54281654e-02 9.68740606e-02\n",
      " 9.83225770e-02 9.97735976e-02 1.01227007e-01 1.02682691e-01\n",
      " 1.04140537e-01 1.05600434e-01 1.07062273e-01 1.08525944e-01\n",
      " 1.09991342e-01 1.11458359e-01 1.12926893e-01 1.14396839e-01\n",
      " 1.15868095e-01 1.17340562e-01 1.18814139e-01 1.20288729e-01\n",
      " 1.21764233e-01 1.23240557e-01 1.24717605e-01 1.26195284e-01\n",
      " 1.27673500e-01 1.29152162e-01 1.30631181e-01 1.32110465e-01\n",
      " 1.33589927e-01 1.35069478e-01 1.36549034e-01 1.38028507e-01\n",
      " 1.39507814e-01 1.40986871e-01 1.42465594e-01 1.43943903e-01\n",
      " 1.45421715e-01 1.46898953e-01 1.48375535e-01 1.49851384e-01\n",
      " 1.51326422e-01 1.52800573e-01 1.54273761e-01 1.55745911e-01\n",
      " 1.57216949e-01 1.58686801e-01 1.60155396e-01 1.61622660e-01\n",
      " 1.63088524e-01 1.64552917e-01 1.66015769e-01 1.67477012e-01\n",
      " 1.68936577e-01 1.70394397e-01 1.71850406e-01 1.73304538e-01\n",
      " 1.74756727e-01 1.76206909e-01 1.77655020e-01 1.79100997e-01\n",
      " 1.80544777e-01 1.81986298e-01 1.83425500e-01 1.84862321e-01\n",
      " 1.86296701e-01 1.87728582e-01 1.89157905e-01 1.90584610e-01\n",
      " 1.92008642e-01 1.93429943e-01 1.94848456e-01 1.96264126e-01\n",
      " 1.97676898e-01 1.99086718e-01 2.00493530e-01 2.01897282e-01\n",
      " 2.03297921e-01 2.04695395e-01 2.06089651e-01 2.07480639e-01\n",
      " 2.08868308e-01 2.10252607e-01 2.11633487e-01 2.13010899e-01\n",
      " 2.14384794e-01 2.15755124e-01 2.17121841e-01 2.18484899e-01\n",
      " 2.19844251e-01 2.21199850e-01 2.22551651e-01 2.23899609e-01\n",
      " 2.25243679e-01 2.26583817e-01 2.27919979e-01 2.29252122e-01\n",
      " 2.30580203e-01 2.31904180e-01 2.33224011e-01 2.34539654e-01\n",
      " 2.35851069e-01 2.37158214e-01 2.38461051e-01 2.39759538e-01\n",
      " 2.41053637e-01 2.42343310e-01 2.43628516e-01 2.44909220e-01\n",
      " 2.46185383e-01 2.47456967e-01 2.48723937e-01 2.49986255e-01\n",
      " 2.51243887e-01 2.52496796e-01 2.53744947e-01 2.54988306e-01\n",
      " 2.56226838e-01 2.57460509e-01 2.58689286e-01 2.59913136e-01\n",
      " 2.61132025e-01 2.62345921e-01 2.63554793e-01 2.64758609e-01\n",
      " 2.65957337e-01 2.67150946e-01 2.68339406e-01 2.69522686e-01\n",
      " 2.70700757e-01 2.71873590e-01 2.73041154e-01 2.74203422e-01\n",
      " 2.75360364e-01 2.76511954e-01 2.77658162e-01 2.78798962e-01\n",
      " 2.79934326e-01 2.81064228e-01 2.82188641e-01 2.83307539e-01\n",
      " 2.84420897e-01 2.85528690e-01 2.86630891e-01 2.87727476e-01\n",
      " 2.88818421e-01 2.89903702e-01 2.90983294e-01 2.92057175e-01\n",
      " 2.93125321e-01 2.94187709e-01 2.95244317e-01 2.96295123e-01\n",
      " 2.97340104e-01 2.98379239e-01 2.99412506e-01 3.00439885e-01\n",
      " 3.01461354e-01 3.02476894e-01 3.03486484e-01 3.04490104e-01\n",
      " 3.05487735e-01 3.06479357e-01 3.07464951e-01 3.08444499e-01\n",
      " 3.09417982e-01 3.10385382e-01 3.11346681e-01 3.12301862e-01\n",
      " 3.13250907e-01 3.14193799e-01 3.15130522e-01 3.16061058e-01\n",
      " 3.16985392e-01 3.17903508e-01 3.18815389e-01 3.19721022e-01\n",
      " 3.20620389e-01 3.21513477e-01 3.22400271e-01 3.23280756e-01\n",
      " 3.24154918e-01 3.25022744e-01 3.25884219e-01 3.26739331e-01\n",
      " 3.27588066e-01 3.28430412e-01 3.29266355e-01 3.30095884e-01\n",
      " 3.30918986e-01 3.31735649e-01 3.32545862e-01 3.33349614e-01\n",
      " 3.34146893e-01 3.34937688e-01 3.35721989e-01 3.36499784e-01\n",
      " 3.37271065e-01 3.38035821e-01 3.38794042e-01 3.39545719e-01\n",
      " 3.40290843e-01 3.41029403e-01 3.41761393e-01 3.42486802e-01\n",
      " 3.43205624e-01 3.43917848e-01 3.44623469e-01 3.45322477e-01\n",
      " 3.46014866e-01 3.46700628e-01 3.47379756e-01 3.48052243e-01\n",
      " 3.48718084e-01 3.49377270e-01 3.50029797e-01 3.50675658e-01\n",
      " 3.51314848e-01 3.51947360e-01 3.52573190e-01 3.53192333e-01\n",
      " 3.53804783e-01 3.54410536e-01 3.55009588e-01 3.55601934e-01\n",
      " 3.56187570e-01 3.56766492e-01 3.57338696e-01 3.57904180e-01\n",
      " 3.58462939e-01 3.59014971e-01 3.59560272e-01 3.60098841e-01\n",
      " 3.60630674e-01 3.61155769e-01 3.61674125e-01 3.62185739e-01\n",
      " 3.62690609e-01 3.63188735e-01 3.63680114e-01 3.64164745e-01\n",
      " 3.64642628e-01 3.65113762e-01 3.65578146e-01 3.66035780e-01\n",
      " 3.66486663e-01 3.66930796e-01 3.67368179e-01 3.67798812e-01\n",
      " 3.68222695e-01 3.68639829e-01 3.69050215e-01 3.69453855e-01\n",
      " 3.69850749e-01 3.70240898e-01 3.70624305e-01 3.71000971e-01\n",
      " 3.71370898e-01 3.71734088e-01 3.72090544e-01 3.72440267e-01\n",
      " 3.72783261e-01 3.73119528e-01 3.73449071e-01 3.73771893e-01\n",
      " 3.74087998e-01 3.74397389e-01 3.74700070e-01 3.74996044e-01\n",
      " 3.75285316e-01 3.75567889e-01 3.75843768e-01 3.76112957e-01\n",
      " 3.76375461e-01 3.76631285e-01 3.76880433e-01 3.77122911e-01\n",
      " 3.77358724e-01 3.77587877e-01 3.77810376e-01 3.78026226e-01\n",
      " 3.78235434e-01 3.78438005e-01 3.78633946e-01 3.78823263e-01\n",
      " 3.79005962e-01 3.79182050e-01 3.79351534e-01 3.79514421e-01\n",
      " 3.79670718e-01 3.79820432e-01 3.79963570e-01 3.80100141e-01\n",
      " 3.80230151e-01 3.80353609e-01 3.80470522e-01 3.80580899e-01\n",
      " 3.80684748e-01 3.80782077e-01 3.80872894e-01 3.80957210e-01\n",
      " 3.81035031e-01 3.81106368e-01 3.81171230e-01 3.81229625e-01\n",
      " 3.81281563e-01 3.81327054e-01 3.81366107e-01 3.81398733e-01\n",
      " 3.81424940e-01 3.81444739e-01 3.81458141e-01 3.81465155e-01\n",
      " 3.81465793e-01 3.81460064e-01 3.81447980e-01 3.81429551e-01\n",
      " 3.81404789e-01 3.81373704e-01 3.81336308e-01 3.81292612e-01\n",
      " 3.81242628e-01 3.81186368e-01 3.81123842e-01 3.81055064e-01\n",
      " 3.80980045e-01 3.80898797e-01 3.80811333e-01 3.80717665e-01\n",
      " 3.80617805e-01 3.80511767e-01 3.80399562e-01 3.80281205e-01\n",
      " 3.80156707e-01 3.80026083e-01 3.79889345e-01 3.79746507e-01\n",
      " 3.79597582e-01 3.79442584e-01 3.79281527e-01 3.79114425e-01\n",
      " 3.78941291e-01 3.78762139e-01 3.78576985e-01 3.78385842e-01\n",
      " 3.78188724e-01 3.77985647e-01 3.77776625e-01 3.77561672e-01\n",
      " 3.77340804e-01 3.77114036e-01 3.76881382e-01 3.76642858e-01\n",
      " 3.76398480e-01 3.76148263e-01 3.75892222e-01 3.75630373e-01\n",
      " 3.75362732e-01 3.75089315e-01 3.74810138e-01 3.74525216e-01\n",
      " 3.74234567e-01 3.73938206e-01 3.73636150e-01 3.73328416e-01\n",
      " 3.73015019e-01 3.72695978e-01 3.72371308e-01 3.72041026e-01\n",
      " 3.71705151e-01 3.71363698e-01 3.71016685e-01 3.70664130e-01\n",
      " 3.70306050e-01 3.69942462e-01 3.69573384e-01 3.69198834e-01\n",
      " 3.68818830e-01 3.68433389e-01 3.68042531e-01 3.67646272e-01\n",
      " 3.67244631e-01 3.66837627e-01 3.66425278e-01 3.66007602e-01\n",
      " 3.65584618e-01 3.65156345e-01 3.64722801e-01 3.64284006e-01\n",
      " 3.63839979e-01 3.63390738e-01 3.62936302e-01 3.62476692e-01\n",
      " 3.62011926e-01 3.61542024e-01 3.61067006e-01 3.60586890e-01\n",
      " 3.60101697e-01 3.59611447e-01 3.59116159e-01 3.58615853e-01\n",
      " 3.58110550e-01 3.57600269e-01 3.57085031e-01 3.56564857e-01\n",
      " 3.56039766e-01 3.55509779e-01 3.54974916e-01 3.54435199e-01\n",
      " 3.53890648e-01 3.53341284e-01 3.52787128e-01 3.52228200e-01\n",
      " 3.51664522e-01 3.51096115e-01 3.50523000e-01 3.49945199e-01\n",
      " 3.49362732e-01 3.48775622e-01 3.48183890e-01 3.47587557e-01\n",
      " 3.46986646e-01 3.46381177e-01 3.45771173e-01 3.45156656e-01\n",
      " 3.44537648e-01 3.43914170e-01 3.43286246e-01 3.42653896e-01\n",
      " 3.42017144e-01 3.41376012e-01 3.40730522e-01 3.40080697e-01\n",
      " 3.39426559e-01 3.38768132e-01 3.38105437e-01 3.37438497e-01\n",
      " 3.36767337e-01 3.36091977e-01 3.35412442e-01 3.34728754e-01\n",
      " 3.34040937e-01 3.33349013e-01 3.32653007e-01 3.31952941e-01\n",
      " 3.31248839e-01 3.30540724e-01 3.29828620e-01 3.29112551e-01\n",
      " 3.28392539e-01 3.27668610e-01 3.26940786e-01 3.26209091e-01\n",
      " 3.25473550e-01 3.24734186e-01 3.23991024e-01 3.23244087e-01\n",
      " 3.22493400e-01 3.21738987e-01 3.20980872e-01 3.20219080e-01\n",
      " 3.19453635e-01 3.18684561e-01 3.17911883e-01 3.17135626e-01\n",
      " 3.16355814e-01 3.15572471e-01 3.14785624e-01 3.13995295e-01\n",
      " 3.13201512e-01 3.12404297e-01 3.11603676e-01 3.10799675e-01\n",
      " 3.09992318e-01 3.09181630e-01 3.08367638e-01 3.07550364e-01\n",
      " 3.06729836e-01 3.05906079e-01 3.05079117e-01 3.04248977e-01\n",
      " 3.03415683e-01 3.02579262e-01 3.01739739e-01 3.00897139e-01\n",
      " 3.00051489e-01 2.99202813e-01 2.98351139e-01 2.97496491e-01\n",
      " 2.96638895e-01 2.95778378e-01 2.94914965e-01 2.94048683e-01\n",
      " 2.93179557e-01 2.92307614e-01 2.91432879e-01 2.90555380e-01\n",
      " 2.89675141e-01 2.88792190e-01 2.87906553e-01 2.87018255e-01\n",
      " 2.86127325e-01 2.85233787e-01 2.84337668e-01 2.83438996e-01\n",
      " 2.82537796e-01 2.81634095e-01 2.80727920e-01 2.79819297e-01\n",
      " 2.78908254e-01 2.77994816e-01 2.77079011e-01 2.76160865e-01\n",
      " 2.75240406e-01 2.74317660e-01 2.73392655e-01 2.72465416e-01\n",
      " 2.71535972e-01 2.70604349e-01 2.69670574e-01 2.68734674e-01\n",
      " 2.67796677e-01 2.66856610e-01 2.65914500e-01 2.64970373e-01\n",
      " 2.64024258e-01 2.63076182e-01 2.62126172e-01 2.61174254e-01\n",
      " 2.60220458e-01 2.59264810e-01 2.58307337e-01 2.57348067e-01\n",
      " 2.56387027e-01 2.55424246e-01 2.54459750e-01 2.53493567e-01\n",
      " 2.52525725e-01 2.51556251e-01 2.50585172e-01 2.49612518e-01\n",
      " 2.48638314e-01 2.47662590e-01 2.46685372e-01 2.45706689e-01\n",
      " 2.44726568e-01 2.43745037e-01 2.42762123e-01 2.41777855e-01\n",
      " 2.40792261e-01 2.39805368e-01 2.38817205e-01 2.37827798e-01\n",
      " 2.36837176e-01 2.35845368e-01 2.34852400e-01 2.33858302e-01\n",
      " 2.32863100e-01 2.31866823e-01 2.30869500e-01 2.29871157e-01\n",
      " 2.28871823e-01 2.27871526e-01 2.26870295e-01 2.25868156e-01\n",
      " 2.24865139e-01 2.23861272e-01 2.22856582e-01 2.21851098e-01\n",
      " 2.20844847e-01 2.19837859e-01 2.18830161e-01 2.17821781e-01\n",
      " 2.16812747e-01 2.15803088e-01 2.14792832e-01 2.13782008e-01\n",
      " 2.12770642e-01 2.11758764e-01 2.10746401e-01 2.09733582e-01\n",
      " 2.08720336e-01 2.07706690e-01 2.06692672e-01 2.05678311e-01\n",
      " 2.04663635e-01 2.03648672e-01 2.02633451e-01 2.01617999e-01\n",
      " 2.00602346e-01 1.99586518e-01 1.98570545e-01 1.97554455e-01\n",
      " 1.96538275e-01 1.95522034e-01 1.94505761e-01 1.93489483e-01\n",
      " 1.92473229e-01 1.91457027e-01 1.90440904e-01 1.89424890e-01\n",
      " 1.88409013e-01 1.87393300e-01 1.86377781e-01 1.85362482e-01\n",
      " 1.84347432e-01 1.83332660e-01 1.82318193e-01 1.81304059e-01\n",
      " 1.80290288e-01 1.79276906e-01 1.78263942e-01 1.77251424e-01\n",
      " 1.76239380e-01 1.75227838e-01 1.74216826e-01 1.73206373e-01\n",
      " 1.72196505e-01 1.71187252e-01 1.70178641e-01 1.69170700e-01\n",
      " 1.68163457e-01 1.67156940e-01 1.66151176e-01 1.65146195e-01\n",
      " 1.64142023e-01 1.63138689e-01 1.62136220e-01 1.61134644e-01\n",
      " 1.60133988e-01 1.59134282e-01 1.58135552e-01 1.57137826e-01\n",
      " 1.56141131e-01 1.55145497e-01 1.54150949e-01 1.53157515e-01\n",
      " 1.52165224e-01 1.51174103e-01 1.50184179e-01 1.49195480e-01\n",
      " 1.48208034e-01 1.47221866e-01 1.46237006e-01 1.45253481e-01\n",
      " 1.44271317e-01 1.43290543e-01 1.42311184e-01 1.41333270e-01\n",
      " 1.40356826e-01 1.39381881e-01 1.38408460e-01 1.37436592e-01\n",
      " 1.36466303e-01 1.35497620e-01 1.34530571e-01 1.33565182e-01\n",
      " 1.32601480e-01 1.31639492e-01 1.30679244e-01 1.29720765e-01\n",
      " 1.28764080e-01 1.27809215e-01 1.26856199e-01 1.25905057e-01\n",
      " 1.24955815e-01 1.24008501e-01 1.23063141e-01 1.22119761e-01\n",
      " 1.21178388e-01 1.20239047e-01 1.19301766e-01 1.18366570e-01\n",
      " 1.17433485e-01 1.16502538e-01 1.15573755e-01 1.14647162e-01\n",
      " 1.13722784e-01 1.12800648e-01 1.11880779e-01 1.10963203e-01\n",
      " 1.10047947e-01 1.09135034e-01 1.08224492e-01 1.07316346e-01\n",
      " 1.06410621e-01 1.05507342e-01 1.04606536e-01 1.03708227e-01\n",
      " 1.02812440e-01 1.01919201e-01 1.01028534e-01 1.00140466e-01\n",
      " 9.92550197e-02 9.83722214e-02 9.74920957e-02 9.66146671e-02\n",
      " 9.57399605e-02 9.48680004e-02 9.39988113e-02 9.31324178e-02\n",
      " 9.22688442e-02 9.14081149e-02 9.05502539e-02 8.96952857e-02\n",
      " 8.88432341e-02 8.79941233e-02 8.71479770e-02 8.63048193e-02\n",
      " 8.54646738e-02 8.46275642e-02 8.37935141e-02 8.29625469e-02\n",
      " 8.21346862e-02 8.13099553e-02 8.04883773e-02 7.96699755e-02\n",
      " 7.88547729e-02 7.80427924e-02 7.72340570e-02 7.64285894e-02\n",
      " 7.56264124e-02 7.48275484e-02 7.40320201e-02 7.32398498e-02\n",
      " 7.24510598e-02 7.16656722e-02 7.08837093e-02 7.01051930e-02\n",
      " 6.93301451e-02 6.85585875e-02 6.77905419e-02 6.70260298e-02\n",
      " 6.62650726e-02 6.55076918e-02 6.47539085e-02 6.40037439e-02\n",
      " 6.32572191e-02 6.25143548e-02 6.17751720e-02 6.10396912e-02\n",
      " 6.03079330e-02 5.95799179e-02 5.88556660e-02 5.81351978e-02\n",
      " 5.74185330e-02 5.67056918e-02 5.59966940e-02 5.52915591e-02\n",
      " 5.45903067e-02 5.38929563e-02 5.31995271e-02 5.25100384e-02\n",
      " 5.18245090e-02 5.11429579e-02 5.04654037e-02 4.97918652e-02\n",
      " 4.91223607e-02 4.84569086e-02 4.77955270e-02 4.71382339e-02\n",
      " 4.64850473e-02 4.58359847e-02 4.51910638e-02 4.45503021e-02\n",
      " 4.39137166e-02 4.32813246e-02 4.26531430e-02 4.20291885e-02\n",
      " 4.14094778e-02 4.07940272e-02 4.01828532e-02 3.95759718e-02\n",
      " 3.89733989e-02 3.83751503e-02 3.77812416e-02 3.71916883e-02\n",
      " 3.66065055e-02 3.60257083e-02 3.54493116e-02 3.48773300e-02\n",
      " 3.43097781e-02 3.37466702e-02 3.31880204e-02 3.26338426e-02\n",
      " 3.20841506e-02 3.15389578e-02 3.09982776e-02 3.04621231e-02\n",
      " 2.99305073e-02 2.94034427e-02 2.88809420e-02 2.83630173e-02\n",
      " 2.78496809e-02 2.73409443e-02 2.68368194e-02 2.63373175e-02\n",
      " 2.58424498e-02 2.53522271e-02 2.48666602e-02 2.43857595e-02\n",
      " 2.39095352e-02 2.34379974e-02 2.29711557e-02 2.25090196e-02\n",
      " 2.20515983e-02 2.15989008e-02 2.11509358e-02 2.07077117e-02\n",
      " 2.02692367e-02 1.98355187e-02 1.94065652e-02 1.89823837e-02\n",
      " 1.85629811e-02 1.81483642e-02 1.77385396e-02 1.73335134e-02\n",
      " 1.69332914e-02 1.65378792e-02 1.61472821e-02 1.57615050e-02\n",
      " 1.53805526e-02 1.50044291e-02 1.46331385e-02 1.42666845e-02\n",
      " 1.39050703e-02 1.35482988e-02 1.31963728e-02 1.28492943e-02\n",
      " 1.25070654e-02 1.21696874e-02 1.18371616e-02 1.15094886e-02\n",
      " 1.11866689e-02 1.08687023e-02 1.05555886e-02 1.02473267e-02\n",
      " 9.94391552e-03 9.64535329e-03 9.35163791e-03 9.06276682e-03\n",
      " 8.77873701e-03 8.49954501e-03 8.22518690e-03 7.95565827e-03\n",
      " 7.69095422e-03 7.43106936e-03 7.17599782e-03 6.92573316e-03\n",
      " 6.68026847e-03 6.43959627e-03 6.20370853e-03 5.97259668e-03\n",
      " 5.74625155e-03 5.52466339e-03 5.30782185e-03 5.09571597e-03\n",
      " 4.88833415e-03 4.68566415e-03 4.48769306e-03 4.29440729e-03\n",
      " 4.10579255e-03 3.92183385e-03 3.74251544e-03 3.56782083e-03\n",
      " 3.39773275e-03 3.23223313e-03 3.07130306e-03 2.91492281e-03\n",
      " 2.76307174e-03 2.61572834e-03 2.47287014e-03 2.33447373e-03\n",
      " 2.20051468e-03 2.07096754e-03 1.94580580e-03 1.82500182e-03\n",
      " 1.70852682e-03 1.59635083e-03 1.48844262e-03 1.38476968e-03\n",
      " 1.28529813e-03 1.18999269e-03 1.09881659e-03 1.01173153e-03\n",
      " 9.28697546e-04 8.49673003e-04 7.74614445e-04 7.03476518e-04\n",
      " 6.36211851e-04 5.72770940e-04 5.13102009e-04 4.57150855e-04\n",
      " 4.04860683e-04 3.56171909e-04 3.11021944e-04 2.69344943e-04\n",
      " 2.31071519e-04 1.96128404e-04 1.64438062e-04 1.35918219e-04\n",
      " 1.10481305e-04 8.80337712e-05 6.84752417e-05 5.16974421e-05\n",
      " 3.75828068e-05 2.60026158e-05 1.68144035e-05 9.85816649e-06\n",
      " 4.95041027e-06 1.87378381e-06 3.55585551e-07 0.00000000e+00]\n"
     ]
    }
   ],
   "source": [
    "with pm.Model():\n",
    "    def logp(x):\n",
    "        # здесь я сразу задаю theano скаляры для параметров, чтобы не было конфликтов\n",
    "        a, b, c = tt.scalar('a'), tt.scalar('b'), tt.scalar('c')\n",
    "        \n",
    "        a = shared(0)\n",
    "        b = shared(2)\n",
    "        c = shared(5)\n",
    "        \n",
    "        alpha, beta = tt.scalar('alpha'), tt.scalar('beta')\n",
    "\n",
    "        alpha = 1 + 4 * (b - a) / (c - a)  \n",
    "        beta = 1 + 4 * (c - b) / (c - a)\n",
    "        \n",
    "        # отдельно считаю аргументы для функций, потому что numpy не нравятся вычисления внутри функции\n",
    "        arg1 = x - a\n",
    "        arg2 = c - x\n",
    "        arg3 = c - a\n",
    "        ab = alpha + beta\n",
    "\n",
    "        coef = np.power(arg1, alpha-1) * np.power(arg2, beta-1) / np.power(arg3, ab-1)\n",
    "        beta_function = shared(sc.beta(alpha.eval(), beta.eval())) # и тут получаю значения из скаляров, чтобы scipy мог с ними работать\n",
    "        result = np.log(coef / beta_function)\n",
    "        \n",
    "        print(result.eval())\n",
    "        print((coef / beta_function).eval())\n",
    "\n",
    "        #print(x.eval())\n",
    "        #print(coef.eval())\n",
    "        #print(beta_function.eval())\n",
    "        #print((np.log(coef / beta_function)).eval())\n",
    "\n",
    "        return result\n",
    "\n",
    "    x = np.linspace(0, 5, 1000)\n",
    "    pert_dist = pm.DensityDist('pert_dist', logp, observed={'x':x})"
   ]
  },
  {
   "cell_type": "markdown",
   "id": "2fbee3ef-75a1-4787-b2bc-b8c1f1c4e591",
   "metadata": {
    "jupyter": {
     "source_hidden": true
    },
    "tags": []
   },
   "source": [
    "Притом когда я вывожу значения, то видно, что это тензор с вроде бы правдоподобными значениями вероятностей. Но почему-то при передаче аргумента при вызове функции возвращается нечто странное. Все значения становятся -inf, то есть для любого значения нулевая вероятность. И это даже тогда, когда я отдаю в модель тот же самый linspace, что в определении функции"
   ]
  },
  {
   "cell_type": "code",
   "execution_count": 75,
   "id": "e620061d-b58c-4d97-bfd1-3c1436a3596f",
   "metadata": {
    "collapsed": true,
    "jupyter": {
     "outputs_hidden": true,
     "source_hidden": true
    },
    "tags": []
   },
   "outputs": [
    {
     "data": {
      "text/plain": [
       "array(-inf)"
      ]
     },
     "execution_count": 75,
     "metadata": {},
     "output_type": "execute_result"
    }
   ],
   "source": [
    "pert_dist.logp({\"x\": 2})"
   ]
  },
  {
   "cell_type": "code",
   "execution_count": 66,
   "id": "3c555e1f-0485-4568-8f51-37b1bf61c93f",
   "metadata": {
    "collapsed": true,
    "jupyter": {
     "outputs_hidden": true,
     "source_hidden": true
    },
    "tags": []
   },
   "outputs": [
    {
     "data": {
      "text/plain": [
       "array([0., 0., 0., 0., 0., 0., 0., 0., 0., 0., 0., 0., 0., 0., 0., 0., 0.,\n",
       "       0., 0., 0., 0., 0., 0., 0., 0., 0., 0., 0., 0., 0., 0., 0., 0., 0.,\n",
       "       0., 0., 0., 0., 0., 0., 0., 0., 0., 0., 0., 0., 0., 0., 0., 0., 0.,\n",
       "       0., 0., 0., 0., 0., 0., 0., 0., 0., 0., 0., 0., 0., 0., 0., 0., 0.,\n",
       "       0., 0., 0., 0., 0., 0., 0., 0., 0., 0., 0., 0., 0., 0., 0., 0., 0.,\n",
       "       0., 0., 0., 0., 0., 0., 0., 0., 0., 0., 0., 0., 0., 0., 0., 0., 0.,\n",
       "       0., 0., 0., 0., 0., 0., 0., 0., 0., 0., 0., 0., 0., 0., 0., 0., 0.,\n",
       "       0., 0., 0., 0., 0., 0., 0., 0., 0., 0., 0., 0., 0., 0., 0., 0., 0.,\n",
       "       0., 0., 0., 0., 0., 0., 0., 0., 0., 0., 0., 0., 0., 0., 0., 0., 0.,\n",
       "       0., 0., 0., 0., 0., 0., 0., 0., 0., 0., 0., 0., 0., 0., 0., 0., 0.,\n",
       "       0., 0., 0., 0., 0., 0., 0., 0., 0., 0., 0., 0., 0., 0., 0., 0., 0.,\n",
       "       0., 0., 0., 0., 0., 0., 0., 0., 0., 0., 0., 0., 0., 0., 0., 0., 0.,\n",
       "       0., 0., 0., 0., 0., 0., 0., 0., 0., 0., 0., 0., 0., 0., 0., 0., 0.,\n",
       "       0., 0., 0., 0., 0., 0., 0., 0., 0., 0., 0., 0., 0., 0., 0., 0., 0.,\n",
       "       0., 0., 0., 0., 0., 0., 0., 0., 0., 0., 0., 0., 0., 0., 0., 0., 0.,\n",
       "       0., 0., 0., 0., 0., 0., 0., 0., 0., 0., 0., 0., 0., 0., 0., 0., 0.,\n",
       "       0., 0., 0., 0., 0., 0., 0., 0., 0., 0., 0., 0., 0., 0., 0., 0., 0.,\n",
       "       0., 0., 0., 0., 0., 0., 0., 0., 0., 0., 0., 0., 0., 0., 0., 0., 0.,\n",
       "       0., 0., 0., 0., 0., 0., 0., 0., 0., 0., 0., 0., 0., 0., 0., 0., 0.,\n",
       "       0., 0., 0., 0., 0., 0., 0., 0., 0., 0., 0., 0., 0., 0., 0., 0., 0.,\n",
       "       0., 0., 0., 0., 0., 0., 0., 0., 0., 0., 0., 0., 0., 0., 0., 0., 0.,\n",
       "       0., 0., 0., 0., 0., 0., 0., 0., 0., 0., 0., 0., 0., 0., 0., 0., 0.,\n",
       "       0., 0., 0., 0., 0., 0., 0., 0., 0., 0., 0., 0., 0., 0., 0., 0., 0.,\n",
       "       0., 0., 0., 0., 0., 0., 0., 0., 0., 0., 0., 0., 0., 0., 0., 0., 0.,\n",
       "       0., 0., 0., 0., 0., 0., 0., 0., 0., 0., 0., 0., 0., 0., 0., 0., 0.,\n",
       "       0., 0., 0., 0., 0., 0., 0., 0., 0., 0., 0., 0., 0., 0., 0., 0., 0.,\n",
       "       0., 0., 0., 0., 0., 0., 0., 0., 0., 0., 0., 0., 0., 0., 0., 0., 0.,\n",
       "       0., 0., 0., 0., 0., 0., 0., 0., 0., 0., 0., 0., 0., 0., 0., 0., 0.,\n",
       "       0., 0., 0., 0., 0., 0., 0., 0., 0., 0., 0., 0., 0., 0., 0., 0., 0.,\n",
       "       0., 0., 0., 0., 0., 0., 0., 0., 0., 0., 0., 0., 0., 0., 0., 0., 0.,\n",
       "       0., 0., 0., 0., 0., 0., 0., 0., 0., 0., 0., 0., 0., 0., 0., 0., 0.,\n",
       "       0., 0., 0., 0., 0., 0., 0., 0., 0., 0., 0., 0., 0., 0., 0., 0., 0.,\n",
       "       0., 0., 0., 0., 0., 0., 0., 0., 0., 0., 0., 0., 0., 0., 0., 0., 0.,\n",
       "       0., 0., 0., 0., 0., 0., 0., 0., 0., 0., 0., 0., 0., 0., 0., 0., 0.,\n",
       "       0., 0., 0., 0., 0., 0., 0., 0., 0., 0., 0., 0., 0., 0., 0., 0., 0.,\n",
       "       0., 0., 0., 0., 0., 0., 0., 0., 0., 0., 0., 0., 0., 0., 0., 0., 0.,\n",
       "       0., 0., 0., 0., 0., 0., 0., 0., 0., 0., 0., 0., 0., 0., 0., 0., 0.,\n",
       "       0., 0., 0., 0., 0., 0., 0., 0., 0., 0., 0., 0., 0., 0., 0., 0., 0.,\n",
       "       0., 0., 0., 0., 0., 0., 0., 0., 0., 0., 0., 0., 0., 0., 0., 0., 0.,\n",
       "       0., 0., 0., 0., 0., 0., 0., 0., 0., 0., 0., 0., 0., 0., 0., 0., 0.,\n",
       "       0., 0., 0., 0., 0., 0., 0., 0., 0., 0., 0., 0., 0., 0., 0., 0., 0.,\n",
       "       0., 0., 0., 0., 0., 0., 0., 0., 0., 0., 0., 0., 0., 0., 0., 0., 0.,\n",
       "       0., 0., 0., 0., 0., 0., 0., 0., 0., 0., 0., 0., 0., 0., 0., 0., 0.,\n",
       "       0., 0., 0., 0., 0., 0., 0., 0., 0., 0., 0., 0., 0., 0., 0., 0., 0.,\n",
       "       0., 0., 0., 0., 0., 0., 0., 0., 0., 0., 0., 0., 0., 0., 0., 0., 0.,\n",
       "       0., 0., 0., 0., 0., 0., 0., 0., 0., 0., 0., 0., 0., 0., 0., 0., 0.,\n",
       "       0., 0., 0., 0., 0., 0., 0., 0., 0., 0., 0., 0., 0., 0., 0., 0., 0.,\n",
       "       0., 0., 0., 0., 0., 0., 0., 0., 0., 0., 0., 0., 0., 0., 0., 0., 0.,\n",
       "       0., 0., 0., 0., 0., 0., 0., 0., 0., 0., 0., 0., 0., 0., 0., 0., 0.,\n",
       "       0., 0., 0., 0., 0., 0., 0., 0., 0., 0., 0., 0., 0., 0., 0., 0., 0.,\n",
       "       0., 0., 0., 0., 0., 0., 0., 0., 0., 0., 0., 0., 0., 0., 0., 0., 0.,\n",
       "       0., 0., 0., 0., 0., 0., 0., 0., 0., 0., 0., 0., 0., 0., 0., 0., 0.,\n",
       "       0., 0., 0., 0., 0., 0., 0., 0., 0., 0., 0., 0., 0., 0., 0., 0., 0.,\n",
       "       0., 0., 0., 0., 0., 0., 0., 0., 0., 0., 0., 0., 0., 0., 0., 0., 0.,\n",
       "       0., 0., 0., 0., 0., 0., 0., 0., 0., 0., 0., 0., 0., 0., 0., 0., 0.,\n",
       "       0., 0., 0., 0., 0., 0., 0., 0., 0., 0., 0., 0., 0., 0., 0., 0., 0.,\n",
       "       0., 0., 0., 0., 0., 0., 0., 0., 0., 0., 0., 0., 0., 0., 0., 0., 0.,\n",
       "       0., 0., 0., 0., 0., 0., 0., 0., 0., 0., 0., 0., 0., 0., 0., 0., 0.,\n",
       "       0., 0., 0., 0., 0., 0., 0., 0., 0., 0., 0., 0., 0., 0.])"
      ]
     },
     "execution_count": 66,
     "metadata": {},
     "output_type": "execute_result"
    }
   ],
   "source": [
    "y = np.array([np.exp(pert_dist.logp({\"x\": i})) for i in x])\n",
    "y"
   ]
  },
  {
   "cell_type": "code",
   "execution_count": 12,
   "id": "ede35116-ddcc-4cb0-b050-510558a043d0",
   "metadata": {
    "collapsed": true,
    "jupyter": {
     "outputs_hidden": true,
     "source_hidden": true
    },
    "tags": []
   },
   "outputs": [
    {
     "ename": "ValueError",
     "evalue": "x and y must have same first dimension, but have shapes (1000,) and (1,)",
     "output_type": "error",
     "traceback": [
      "\u001b[0;31m---------------------------------------------------------------------------\u001b[0m",
      "\u001b[0;31mValueError\u001b[0m                                Traceback (most recent call last)",
      "\u001b[0;32m/var/folders/dh/21zryz8x2nddglznzqt68jj40000gn/T/ipykernel_6866/1156299792.py\u001b[0m in \u001b[0;36m<module>\u001b[0;34m\u001b[0m\n\u001b[1;32m      2\u001b[0m \u001b[0max\u001b[0m\u001b[0;34m.\u001b[0m\u001b[0mset_ylim\u001b[0m\u001b[0;34m(\u001b[0m\u001b[0;36m0\u001b[0m\u001b[0;34m,\u001b[0m \u001b[0;36m2.5\u001b[0m\u001b[0;34m)\u001b[0m\u001b[0;34m\u001b[0m\u001b[0;34m\u001b[0m\u001b[0m\n\u001b[1;32m      3\u001b[0m \u001b[0max\u001b[0m\u001b[0;34m.\u001b[0m\u001b[0mset_xticks\u001b[0m\u001b[0;34m(\u001b[0m\u001b[0mnp\u001b[0m\u001b[0;34m.\u001b[0m\u001b[0mlinspace\u001b[0m\u001b[0;34m(\u001b[0m\u001b[0;36m0\u001b[0m\u001b[0;34m,\u001b[0m \u001b[0;36m5\u001b[0m\u001b[0;34m,\u001b[0m \u001b[0;36m11\u001b[0m\u001b[0;34m)\u001b[0m\u001b[0;34m)\u001b[0m\u001b[0;34m\u001b[0m\u001b[0;34m\u001b[0m\u001b[0m\n\u001b[0;32m----> 4\u001b[0;31m \u001b[0max\u001b[0m\u001b[0;34m.\u001b[0m\u001b[0mplot\u001b[0m\u001b[0;34m(\u001b[0m\u001b[0mx\u001b[0m\u001b[0;34m,\u001b[0m \u001b[0my\u001b[0m\u001b[0;34m)\u001b[0m\u001b[0;34m\u001b[0m\u001b[0;34m\u001b[0m\u001b[0m\n\u001b[0m\u001b[1;32m      5\u001b[0m \u001b[0mplt\u001b[0m\u001b[0;34m.\u001b[0m\u001b[0mplot\u001b[0m\u001b[0;34m\u001b[0m\u001b[0;34m\u001b[0m\u001b[0m\n",
      "\u001b[0;32m/Applications/anaconda3/envs/pymcenv/lib/python3.9/site-packages/matplotlib/axes/_axes.py\u001b[0m in \u001b[0;36mplot\u001b[0;34m(self, scalex, scaley, data, *args, **kwargs)\u001b[0m\n\u001b[1;32m   1603\u001b[0m         \"\"\"\n\u001b[1;32m   1604\u001b[0m         \u001b[0mkwargs\u001b[0m \u001b[0;34m=\u001b[0m \u001b[0mcbook\u001b[0m\u001b[0;34m.\u001b[0m\u001b[0mnormalize_kwargs\u001b[0m\u001b[0;34m(\u001b[0m\u001b[0mkwargs\u001b[0m\u001b[0;34m,\u001b[0m \u001b[0mmlines\u001b[0m\u001b[0;34m.\u001b[0m\u001b[0mLine2D\u001b[0m\u001b[0;34m)\u001b[0m\u001b[0;34m\u001b[0m\u001b[0;34m\u001b[0m\u001b[0m\n\u001b[0;32m-> 1605\u001b[0;31m         \u001b[0mlines\u001b[0m \u001b[0;34m=\u001b[0m \u001b[0;34m[\u001b[0m\u001b[0;34m*\u001b[0m\u001b[0mself\u001b[0m\u001b[0;34m.\u001b[0m\u001b[0m_get_lines\u001b[0m\u001b[0;34m(\u001b[0m\u001b[0;34m*\u001b[0m\u001b[0margs\u001b[0m\u001b[0;34m,\u001b[0m \u001b[0mdata\u001b[0m\u001b[0;34m=\u001b[0m\u001b[0mdata\u001b[0m\u001b[0;34m,\u001b[0m \u001b[0;34m**\u001b[0m\u001b[0mkwargs\u001b[0m\u001b[0;34m)\u001b[0m\u001b[0;34m]\u001b[0m\u001b[0;34m\u001b[0m\u001b[0;34m\u001b[0m\u001b[0m\n\u001b[0m\u001b[1;32m   1606\u001b[0m         \u001b[0;32mfor\u001b[0m \u001b[0mline\u001b[0m \u001b[0;32min\u001b[0m \u001b[0mlines\u001b[0m\u001b[0;34m:\u001b[0m\u001b[0;34m\u001b[0m\u001b[0;34m\u001b[0m\u001b[0m\n\u001b[1;32m   1607\u001b[0m             \u001b[0mself\u001b[0m\u001b[0;34m.\u001b[0m\u001b[0madd_line\u001b[0m\u001b[0;34m(\u001b[0m\u001b[0mline\u001b[0m\u001b[0;34m)\u001b[0m\u001b[0;34m\u001b[0m\u001b[0;34m\u001b[0m\u001b[0m\n",
      "\u001b[0;32m/Applications/anaconda3/envs/pymcenv/lib/python3.9/site-packages/matplotlib/axes/_base.py\u001b[0m in \u001b[0;36m__call__\u001b[0;34m(self, data, *args, **kwargs)\u001b[0m\n\u001b[1;32m    313\u001b[0m                 \u001b[0mthis\u001b[0m \u001b[0;34m+=\u001b[0m \u001b[0margs\u001b[0m\u001b[0;34m[\u001b[0m\u001b[0;36m0\u001b[0m\u001b[0;34m]\u001b[0m\u001b[0;34m,\u001b[0m\u001b[0;34m\u001b[0m\u001b[0;34m\u001b[0m\u001b[0m\n\u001b[1;32m    314\u001b[0m                 \u001b[0margs\u001b[0m \u001b[0;34m=\u001b[0m \u001b[0margs\u001b[0m\u001b[0;34m[\u001b[0m\u001b[0;36m1\u001b[0m\u001b[0;34m:\u001b[0m\u001b[0;34m]\u001b[0m\u001b[0;34m\u001b[0m\u001b[0;34m\u001b[0m\u001b[0m\n\u001b[0;32m--> 315\u001b[0;31m             \u001b[0;32myield\u001b[0m \u001b[0;32mfrom\u001b[0m \u001b[0mself\u001b[0m\u001b[0;34m.\u001b[0m\u001b[0m_plot_args\u001b[0m\u001b[0;34m(\u001b[0m\u001b[0mthis\u001b[0m\u001b[0;34m,\u001b[0m \u001b[0mkwargs\u001b[0m\u001b[0;34m)\u001b[0m\u001b[0;34m\u001b[0m\u001b[0;34m\u001b[0m\u001b[0m\n\u001b[0m\u001b[1;32m    316\u001b[0m \u001b[0;34m\u001b[0m\u001b[0m\n\u001b[1;32m    317\u001b[0m     \u001b[0;32mdef\u001b[0m \u001b[0mget_next_color\u001b[0m\u001b[0;34m(\u001b[0m\u001b[0mself\u001b[0m\u001b[0;34m)\u001b[0m\u001b[0;34m:\u001b[0m\u001b[0;34m\u001b[0m\u001b[0;34m\u001b[0m\u001b[0m\n",
      "\u001b[0;32m/Applications/anaconda3/envs/pymcenv/lib/python3.9/site-packages/matplotlib/axes/_base.py\u001b[0m in \u001b[0;36m_plot_args\u001b[0;34m(self, tup, kwargs, return_kwargs)\u001b[0m\n\u001b[1;32m    499\u001b[0m \u001b[0;34m\u001b[0m\u001b[0m\n\u001b[1;32m    500\u001b[0m         \u001b[0;32mif\u001b[0m \u001b[0mx\u001b[0m\u001b[0;34m.\u001b[0m\u001b[0mshape\u001b[0m\u001b[0;34m[\u001b[0m\u001b[0;36m0\u001b[0m\u001b[0;34m]\u001b[0m \u001b[0;34m!=\u001b[0m \u001b[0my\u001b[0m\u001b[0;34m.\u001b[0m\u001b[0mshape\u001b[0m\u001b[0;34m[\u001b[0m\u001b[0;36m0\u001b[0m\u001b[0;34m]\u001b[0m\u001b[0;34m:\u001b[0m\u001b[0;34m\u001b[0m\u001b[0;34m\u001b[0m\u001b[0m\n\u001b[0;32m--> 501\u001b[0;31m             raise ValueError(f\"x and y must have same first dimension, but \"\n\u001b[0m\u001b[1;32m    502\u001b[0m                              f\"have shapes {x.shape} and {y.shape}\")\n\u001b[1;32m    503\u001b[0m         \u001b[0;32mif\u001b[0m \u001b[0mx\u001b[0m\u001b[0;34m.\u001b[0m\u001b[0mndim\u001b[0m \u001b[0;34m>\u001b[0m \u001b[0;36m2\u001b[0m \u001b[0;32mor\u001b[0m \u001b[0my\u001b[0m\u001b[0;34m.\u001b[0m\u001b[0mndim\u001b[0m \u001b[0;34m>\u001b[0m \u001b[0;36m2\u001b[0m\u001b[0;34m:\u001b[0m\u001b[0;34m\u001b[0m\u001b[0;34m\u001b[0m\u001b[0m\n",
      "\u001b[0;31mValueError\u001b[0m: x and y must have same first dimension, but have shapes (1000,) and (1,)"
     ]
    },
    {
     "data": {
      "image/png": "[encoded data removed]",
      "text/plain": [
       "<Figure size 432x288 with 1 Axes>"
      ]
     },
     "metadata": {
      "needs_background": "light"
     },
     "output_type": "display_data"
    }
   ],
   "source": [
    "fig, ax = plt.subplots()\n",
    "ax.set_ylim(0, 2.5)\n",
    "ax.set_xticks(np.linspace(0, 5, 11))\n",
    "ax.plot(x, y)\n",
    "plt.plot"
   ]
  },
  {
   "cell_type": "markdown",
   "id": "dbd5eef9-ffc2-4ced-a26c-ec8bdd078811",
   "metadata": {
    "jp-MarkdownHeadingCollapsed": true,
    "tags": []
   },
   "source": [
    "## Beta-distribution"
   ]
  },
  {
   "cell_type": "markdown",
   "id": "f79f9ac4-9b2e-4c68-8b7f-80983d296367",
   "metadata": {
    "jupyter": {
     "source_hidden": true
    },
    "tags": []
   },
   "source": [
    "Попытка номер два: прописать PDF без бета-функции напрямую, а воспользовавшись $logp$ из готового двухпараметрического бета-распределения PyMC, так как PERT представляет из себя скейлинг беты"
   ]
  },
  {
   "cell_type": "markdown",
   "id": "4bc21d3e-22ec-4bfa-aa19-70c732184fc6",
   "metadata": {
    "jupyter": {
     "source_hidden": true
    },
    "tags": []
   },
   "source": [
    "$\\alpha = 1 + 4 \\dfrac{b - a}{c - a}$"
   ]
  },
  {
   "cell_type": "markdown",
   "id": "227cb78e-0cf0-4d86-8ac2-9a4da1a26c7a",
   "metadata": {
    "jupyter": {
     "source_hidden": true
    },
    "tags": []
   },
   "source": [
    "$\\beta = 1 + 4 \\dfrac{c - b}{c - a}$"
   ]
  },
  {
   "cell_type": "markdown",
   "id": "589af543-9c88-41db-b627-3f664424a78c",
   "metadata": {
    "jupyter": {
     "source_hidden": true
    },
    "tags": []
   },
   "source": [
    "$PDF_{beta} = \\dfrac{x^{\\alpha - 1}(1 - x)^{\\beta - 1}}{B(\\alpha, \\beta)}$"
   ]
  },
  {
   "cell_type": "markdown",
   "id": "eb34c7d6-2b9b-4bfb-90cb-311cf9f65c6c",
   "metadata": {
    "jupyter": {
     "source_hidden": true
    },
    "tags": []
   },
   "source": [
    "$PDF_{PERT} = \\dfrac{\\left(1 - \\dfrac{x}{a}\\right)^{\\alpha - 1}\\left(1 + \\dfrac{c - 1}{1 - x}\\right)^{\\beta - 1}}{\\left(c - a\\right)^{\\alpha + \\beta - 1}} \\cdot PDF_{beta}$"
   ]
  },
  {
   "cell_type": "markdown",
   "id": "3e32761a-412f-49c9-839d-e26f14c4a1ce",
   "metadata": {
    "jupyter": {
     "source_hidden": true
    },
    "tags": []
   },
   "source": [
    "Не работает вообще ничего, но уже вроде и не надо, так как появились подвижки в первом варианте"
   ]
  },
  {
   "cell_type": "markdown",
   "id": "3297cc38-08ff-40cf-bf00-6bddc9e184f5",
   "metadata": {
    "jupyter": {
     "source_hidden": true
    },
    "tags": []
   },
   "source": [
    "$\\ln{x^{\\alpha - 1}} = (\\alpha - 1) \\ln{x}$"
   ]
  },
  {
   "cell_type": "code",
   "execution_count": null,
   "id": "a0fe4b10-def8-4bcd-a697-4643b96c0583",
   "metadata": {
    "collapsed": true,
    "jupyter": {
     "outputs_hidden": true,
     "source_hidden": true
    },
    "tags": []
   },
   "outputs": [
    {
     "ename": "TypeError",
     "evalue": "can't turn [Sum{acc_dtype=float64}.0] and {} into a dict. TensorType does not support iteration. Maybe you are using builtins.sum instead of theano.tensor.sum? (Maybe .max?)",
     "output_type": "error",
     "traceback": [
      "\u001b[0;31m---------------------------------------------------------------------------\u001b[0m",
      "\u001b[0;31mTypeError\u001b[0m                                 Traceback (most recent call last)",
      "\u001b[0;32m/Applications/anaconda3/envs/pymcenv/lib/python3.9/site-packages/theano/tensor/var.py\u001b[0m in \u001b[0;36m__iter__\u001b[0;34m(self)\u001b[0m\n\u001b[1;32m    635\u001b[0m         \u001b[0;32mtry\u001b[0m\u001b[0;34m:\u001b[0m\u001b[0;34m\u001b[0m\u001b[0;34m\u001b[0m\u001b[0m\n\u001b[0;32m--> 636\u001b[0;31m             \u001b[0;32mfor\u001b[0m \u001b[0mi\u001b[0m \u001b[0;32min\u001b[0m \u001b[0mrange\u001b[0m\u001b[0;34m(\u001b[0m\u001b[0mtheano\u001b[0m\u001b[0;34m.\u001b[0m\u001b[0mtensor\u001b[0m\u001b[0;34m.\u001b[0m\u001b[0mbasic\u001b[0m\u001b[0;34m.\u001b[0m\u001b[0mget_vector_length\u001b[0m\u001b[0;34m(\u001b[0m\u001b[0mself\u001b[0m\u001b[0;34m)\u001b[0m\u001b[0;34m)\u001b[0m\u001b[0;34m:\u001b[0m\u001b[0;34m\u001b[0m\u001b[0;34m\u001b[0m\u001b[0m\n\u001b[0m\u001b[1;32m    637\u001b[0m                 \u001b[0;32myield\u001b[0m \u001b[0mself\u001b[0m\u001b[0;34m[\u001b[0m\u001b[0mi\u001b[0m\u001b[0;34m]\u001b[0m\u001b[0;34m\u001b[0m\u001b[0;34m\u001b[0m\u001b[0m\n",
      "\u001b[0;32m/Applications/anaconda3/envs/pymcenv/lib/python3.9/site-packages/theano/tensor/basic.py\u001b[0m in \u001b[0;36mget_vector_length\u001b[0;34m(v)\u001b[0m\n\u001b[1;32m   4824\u001b[0m     \u001b[0;32mif\u001b[0m \u001b[0mv\u001b[0m\u001b[0;34m.\u001b[0m\u001b[0mndim\u001b[0m \u001b[0;34m!=\u001b[0m \u001b[0;36m1\u001b[0m\u001b[0;34m:\u001b[0m\u001b[0;34m\u001b[0m\u001b[0;34m\u001b[0m\u001b[0m\n\u001b[0;32m-> 4825\u001b[0;31m         \u001b[0;32mraise\u001b[0m \u001b[0mTypeError\u001b[0m\u001b[0;34m(\u001b[0m\u001b[0;34mf\"argument must be symbolic vector, got '{v}'\"\u001b[0m\u001b[0;34m)\u001b[0m\u001b[0;34m\u001b[0m\u001b[0;34m\u001b[0m\u001b[0m\n\u001b[0m\u001b[1;32m   4826\u001b[0m     \u001b[0;32mif\u001b[0m \u001b[0mv\u001b[0m\u001b[0;34m.\u001b[0m\u001b[0mtype\u001b[0m\u001b[0;34m.\u001b[0m\u001b[0mbroadcastable\u001b[0m\u001b[0;34m[\u001b[0m\u001b[0;36m0\u001b[0m\u001b[0;34m]\u001b[0m\u001b[0;34m:\u001b[0m\u001b[0;34m\u001b[0m\u001b[0;34m\u001b[0m\u001b[0m\n",
      "\u001b[0;31mTypeError\u001b[0m: argument must be symbolic vector, got 'Sum{acc_dtype=float64}.0'",
      "\nDuring handling of the above exception, another exception occurred:\n",
      "\u001b[0;31mTypeError\u001b[0m                                 Traceback (most recent call last)",
      "\u001b[0;32m/Applications/anaconda3/envs/pymcenv/lib/python3.9/site-packages/pymc3/model.py\u001b[0m in \u001b[0;36mPoint\u001b[0;34m(*args, **kwargs)\u001b[0m\n\u001b[1;32m   1530\u001b[0m     \u001b[0;32mtry\u001b[0m\u001b[0;34m:\u001b[0m\u001b[0;34m\u001b[0m\u001b[0;34m\u001b[0m\u001b[0m\n\u001b[0;32m-> 1531\u001b[0;31m         \u001b[0md\u001b[0m \u001b[0;34m=\u001b[0m \u001b[0mdict\u001b[0m\u001b[0;34m(\u001b[0m\u001b[0;34m*\u001b[0m\u001b[0margs\u001b[0m\u001b[0;34m,\u001b[0m \u001b[0;34m**\u001b[0m\u001b[0mkwargs\u001b[0m\u001b[0;34m)\u001b[0m\u001b[0;34m\u001b[0m\u001b[0;34m\u001b[0m\u001b[0m\n\u001b[0m\u001b[1;32m   1532\u001b[0m     \u001b[0;32mexcept\u001b[0m \u001b[0mException\u001b[0m \u001b[0;32mas\u001b[0m \u001b[0me\u001b[0m\u001b[0;34m:\u001b[0m\u001b[0;34m\u001b[0m\u001b[0;34m\u001b[0m\u001b[0m\n",
      "\u001b[0;32m/Applications/anaconda3/envs/pymcenv/lib/python3.9/site-packages/theano/tensor/var.py\u001b[0m in \u001b[0;36m__iter__\u001b[0;34m(self)\u001b[0m\n\u001b[1;32m    639\u001b[0m             \u001b[0;31m# This prevents accidental iteration via sum(self)\u001b[0m\u001b[0;34m\u001b[0m\u001b[0;34m\u001b[0m\u001b[0m\n\u001b[0;32m--> 640\u001b[0;31m             raise TypeError(\n\u001b[0m\u001b[1;32m    641\u001b[0m                 \u001b[0;34m\"TensorType does not support iteration. \"\u001b[0m\u001b[0;34m\u001b[0m\u001b[0;34m\u001b[0m\u001b[0m\n",
      "\u001b[0;31mTypeError\u001b[0m: TensorType does not support iteration. Maybe you are using builtins.sum instead of theano.tensor.sum? (Maybe .max?)",
      "\nDuring handling of the above exception, another exception occurred:\n",
      "\u001b[0;31mTypeError\u001b[0m                                 Traceback (most recent call last)",
      "\u001b[0;32m/var/folders/dh/21zryz8x2nddglznzqt68jj40000gn/T/ipykernel_45808/3231756443.py\u001b[0m in \u001b[0;36m<module>\u001b[0;34m\u001b[0m\n\u001b[1;32m     24\u001b[0m \u001b[0;34m\u001b[0m\u001b[0m\n\u001b[1;32m     25\u001b[0m     \u001b[0mx\u001b[0m \u001b[0;34m=\u001b[0m \u001b[0;36m3\u001b[0m\u001b[0;34m\u001b[0m\u001b[0;34m\u001b[0m\u001b[0m\n\u001b[0;32m---> 26\u001b[0;31m     \u001b[0mpert_dist\u001b[0m \u001b[0;34m=\u001b[0m \u001b[0mpm\u001b[0m\u001b[0;34m.\u001b[0m\u001b[0mDensityDist\u001b[0m\u001b[0;34m(\u001b[0m\u001b[0;34m'pert_dist'\u001b[0m\u001b[0;34m,\u001b[0m \u001b[0mlogp\u001b[0m\u001b[0;34m,\u001b[0m \u001b[0mobserved\u001b[0m\u001b[0;34m=\u001b[0m\u001b[0;34m{\u001b[0m\u001b[0;34m'x'\u001b[0m\u001b[0;34m:\u001b[0m\u001b[0mx\u001b[0m\u001b[0;34m}\u001b[0m\u001b[0;34m)\u001b[0m\u001b[0;34m\u001b[0m\u001b[0;34m\u001b[0m\u001b[0m\n\u001b[0m",
      "\u001b[0;32m/Applications/anaconda3/envs/pymcenv/lib/python3.9/site-packages/pymc3/distributions/distribution.py\u001b[0m in \u001b[0;36m__new__\u001b[0;34m(cls, name, *args, **kwargs)\u001b[0m\n\u001b[1;32m    120\u001b[0m         \u001b[0;32melse\u001b[0m\u001b[0;34m:\u001b[0m\u001b[0;34m\u001b[0m\u001b[0;34m\u001b[0m\u001b[0m\n\u001b[1;32m    121\u001b[0m             \u001b[0mdist\u001b[0m \u001b[0;34m=\u001b[0m \u001b[0mcls\u001b[0m\u001b[0;34m.\u001b[0m\u001b[0mdist\u001b[0m\u001b[0;34m(\u001b[0m\u001b[0;34m*\u001b[0m\u001b[0margs\u001b[0m\u001b[0;34m,\u001b[0m \u001b[0;34m**\u001b[0m\u001b[0mkwargs\u001b[0m\u001b[0;34m)\u001b[0m\u001b[0;34m\u001b[0m\u001b[0;34m\u001b[0m\u001b[0m\n\u001b[0;32m--> 122\u001b[0;31m         \u001b[0;32mreturn\u001b[0m \u001b[0mmodel\u001b[0m\u001b[0;34m.\u001b[0m\u001b[0mVar\u001b[0m\u001b[0;34m(\u001b[0m\u001b[0mname\u001b[0m\u001b[0;34m,\u001b[0m \u001b[0mdist\u001b[0m\u001b[0;34m,\u001b[0m \u001b[0mdata\u001b[0m\u001b[0;34m,\u001b[0m \u001b[0mtotal_size\u001b[0m\u001b[0;34m,\u001b[0m \u001b[0mdims\u001b[0m\u001b[0;34m=\u001b[0m\u001b[0mdims\u001b[0m\u001b[0;34m)\u001b[0m\u001b[0;34m\u001b[0m\u001b[0;34m\u001b[0m\u001b[0m\n\u001b[0m\u001b[1;32m    123\u001b[0m \u001b[0;34m\u001b[0m\u001b[0m\n\u001b[1;32m    124\u001b[0m     \u001b[0;32mdef\u001b[0m \u001b[0m__getnewargs__\u001b[0m\u001b[0;34m(\u001b[0m\u001b[0mself\u001b[0m\u001b[0;34m)\u001b[0m\u001b[0;34m:\u001b[0m\u001b[0;34m\u001b[0m\u001b[0;34m\u001b[0m\u001b[0m\n",
      "\u001b[0;32m/Applications/anaconda3/envs/pymcenv/lib/python3.9/site-packages/pymc3/model.py\u001b[0m in \u001b[0;36mVar\u001b[0;34m(self, name, dist, data, total_size, dims)\u001b[0m\n\u001b[1;32m   1160\u001b[0m         \u001b[0;32melif\u001b[0m \u001b[0misinstance\u001b[0m\u001b[0;34m(\u001b[0m\u001b[0mdata\u001b[0m\u001b[0;34m,\u001b[0m \u001b[0mdict\u001b[0m\u001b[0;34m)\u001b[0m\u001b[0;34m:\u001b[0m\u001b[0;34m\u001b[0m\u001b[0;34m\u001b[0m\u001b[0m\n\u001b[1;32m   1161\u001b[0m             \u001b[0;32mwith\u001b[0m \u001b[0mself\u001b[0m\u001b[0;34m:\u001b[0m\u001b[0;34m\u001b[0m\u001b[0;34m\u001b[0m\u001b[0m\n\u001b[0;32m-> 1162\u001b[0;31m                 var = MultiObservedRV(\n\u001b[0m\u001b[1;32m   1163\u001b[0m                     \u001b[0mname\u001b[0m\u001b[0;34m=\u001b[0m\u001b[0mname\u001b[0m\u001b[0;34m,\u001b[0m\u001b[0;34m\u001b[0m\u001b[0;34m\u001b[0m\u001b[0m\n\u001b[1;32m   1164\u001b[0m                     \u001b[0mdata\u001b[0m\u001b[0;34m=\u001b[0m\u001b[0mdata\u001b[0m\u001b[0;34m,\u001b[0m\u001b[0;34m\u001b[0m\u001b[0;34m\u001b[0m\u001b[0m\n",
      "\u001b[0;32m/Applications/anaconda3/envs/pymcenv/lib/python3.9/site-packages/pymc3/model.py\u001b[0m in \u001b[0;36m__init__\u001b[0;34m(self, name, data, distribution, total_size, model)\u001b[0m\n\u001b[1;32m   1871\u001b[0m             \u001b[0mdatum\u001b[0m\u001b[0;34m.\u001b[0m\u001b[0mmissing_values\u001b[0m \u001b[0;32mfor\u001b[0m \u001b[0mdatum\u001b[0m \u001b[0;32min\u001b[0m \u001b[0mself\u001b[0m\u001b[0;34m.\u001b[0m\u001b[0mdata\u001b[0m\u001b[0;34m.\u001b[0m\u001b[0mvalues\u001b[0m\u001b[0;34m(\u001b[0m\u001b[0;34m)\u001b[0m \u001b[0;32mif\u001b[0m \u001b[0mdatum\u001b[0m\u001b[0;34m.\u001b[0m\u001b[0mmissing_values\u001b[0m \u001b[0;32mis\u001b[0m \u001b[0;32mnot\u001b[0m \u001b[0;32mNone\u001b[0m\u001b[0;34m\u001b[0m\u001b[0;34m\u001b[0m\u001b[0m\n\u001b[1;32m   1872\u001b[0m         ]\n\u001b[0;32m-> 1873\u001b[0;31m         \u001b[0mself\u001b[0m\u001b[0;34m.\u001b[0m\u001b[0mlogp_elemwiset\u001b[0m \u001b[0;34m=\u001b[0m \u001b[0mdistribution\u001b[0m\u001b[0;34m.\u001b[0m\u001b[0mlogp\u001b[0m\u001b[0;34m(\u001b[0m\u001b[0;34m**\u001b[0m\u001b[0mself\u001b[0m\u001b[0;34m.\u001b[0m\u001b[0mdata\u001b[0m\u001b[0;34m)\u001b[0m\u001b[0;34m\u001b[0m\u001b[0;34m\u001b[0m\u001b[0m\n\u001b[0m\u001b[1;32m   1874\u001b[0m         \u001b[0;31m# The logp might need scaling in minibatches.\u001b[0m\u001b[0;34m\u001b[0m\u001b[0;34m\u001b[0m\u001b[0m\n\u001b[1;32m   1875\u001b[0m         \u001b[0;31m# This is done in `Factor`.\u001b[0m\u001b[0;34m\u001b[0m\u001b[0;34m\u001b[0m\u001b[0m\n",
      "\u001b[0;32m/var/folders/dh/21zryz8x2nddglznzqt68jj40000gn/T/ipykernel_45808/3231756443.py\u001b[0m in \u001b[0;36mlogp\u001b[0;34m(x)\u001b[0m\n\u001b[1;32m     16\u001b[0m \u001b[0;34m\u001b[0m\u001b[0m\n\u001b[1;32m     17\u001b[0m         \u001b[0mbeta_dist\u001b[0m \u001b[0;34m=\u001b[0m \u001b[0mpm\u001b[0m\u001b[0;34m.\u001b[0m\u001b[0mBeta\u001b[0m\u001b[0;34m(\u001b[0m\u001b[0;34m\"beta_dist\"\u001b[0m\u001b[0;34m,\u001b[0m \u001b[0malpha\u001b[0m\u001b[0;34m=\u001b[0m\u001b[0malpha\u001b[0m\u001b[0;34m,\u001b[0m \u001b[0mbeta\u001b[0m\u001b[0;34m=\u001b[0m\u001b[0mbeta\u001b[0m\u001b[0;34m,\u001b[0m \u001b[0mtransform\u001b[0m\u001b[0;34m=\u001b[0m\u001b[0;32mNone\u001b[0m\u001b[0;34m)\u001b[0m\u001b[0;34m\u001b[0m\u001b[0;34m\u001b[0m\u001b[0m\n\u001b[0;32m---> 18\u001b[0;31m         \u001b[0mbeta_logp\u001b[0m \u001b[0;34m=\u001b[0m \u001b[0mbeta_dist\u001b[0m\u001b[0;34m.\u001b[0m\u001b[0mlogp\u001b[0m\u001b[0;34m(\u001b[0m\u001b[0mtt\u001b[0m\u001b[0;34m.\u001b[0m\u001b[0msum\u001b[0m\u001b[0;34m(\u001b[0m\u001b[0mx\u001b[0m\u001b[0;34m)\u001b[0m\u001b[0;34m)\u001b[0m\u001b[0;34m\u001b[0m\u001b[0;34m\u001b[0m\u001b[0m\n\u001b[0m\u001b[1;32m     19\u001b[0m         \u001b[0mprint\u001b[0m\u001b[0;34m(\u001b[0m\u001b[0mbeta_logp\u001b[0m\u001b[0;34m.\u001b[0m\u001b[0mtype\u001b[0m\u001b[0;34m)\u001b[0m\u001b[0;34m\u001b[0m\u001b[0;34m\u001b[0m\u001b[0m\n\u001b[1;32m     20\u001b[0m \u001b[0;34m\u001b[0m\u001b[0m\n",
      "\u001b[0;32m/Applications/anaconda3/envs/pymcenv/lib/python3.9/site-packages/pymc3/model.py\u001b[0m in \u001b[0;36m__call__\u001b[0;34m(self, *args, **kwargs)\u001b[0m\n\u001b[1;32m   1558\u001b[0m \u001b[0;34m\u001b[0m\u001b[0m\n\u001b[1;32m   1559\u001b[0m     \u001b[0;32mdef\u001b[0m \u001b[0m__call__\u001b[0m\u001b[0;34m(\u001b[0m\u001b[0mself\u001b[0m\u001b[0;34m,\u001b[0m \u001b[0;34m*\u001b[0m\u001b[0margs\u001b[0m\u001b[0;34m,\u001b[0m \u001b[0;34m**\u001b[0m\u001b[0mkwargs\u001b[0m\u001b[0;34m)\u001b[0m\u001b[0;34m:\u001b[0m\u001b[0;34m\u001b[0m\u001b[0;34m\u001b[0m\u001b[0m\n\u001b[0;32m-> 1560\u001b[0;31m         \u001b[0mpoint\u001b[0m \u001b[0;34m=\u001b[0m \u001b[0mPoint\u001b[0m\u001b[0;34m(\u001b[0m\u001b[0mmodel\u001b[0m\u001b[0;34m=\u001b[0m\u001b[0mself\u001b[0m\u001b[0;34m.\u001b[0m\u001b[0mmodel\u001b[0m\u001b[0;34m,\u001b[0m \u001b[0;34m*\u001b[0m\u001b[0margs\u001b[0m\u001b[0;34m,\u001b[0m \u001b[0;34m**\u001b[0m\u001b[0mkwargs\u001b[0m\u001b[0;34m)\u001b[0m\u001b[0;34m\u001b[0m\u001b[0;34m\u001b[0m\u001b[0m\n\u001b[0m\u001b[1;32m   1561\u001b[0m         \u001b[0;32mreturn\u001b[0m \u001b[0mself\u001b[0m\u001b[0;34m.\u001b[0m\u001b[0mf\u001b[0m\u001b[0;34m(\u001b[0m\u001b[0;34m**\u001b[0m\u001b[0mpoint\u001b[0m\u001b[0;34m)\u001b[0m\u001b[0;34m\u001b[0m\u001b[0;34m\u001b[0m\u001b[0m\n\u001b[1;32m   1562\u001b[0m \u001b[0;34m\u001b[0m\u001b[0m\n",
      "\u001b[0;32m/Applications/anaconda3/envs/pymcenv/lib/python3.9/site-packages/pymc3/model.py\u001b[0m in \u001b[0;36mPoint\u001b[0;34m(*args, **kwargs)\u001b[0m\n\u001b[1;32m   1531\u001b[0m         \u001b[0md\u001b[0m \u001b[0;34m=\u001b[0m \u001b[0mdict\u001b[0m\u001b[0;34m(\u001b[0m\u001b[0;34m*\u001b[0m\u001b[0margs\u001b[0m\u001b[0;34m,\u001b[0m \u001b[0;34m**\u001b[0m\u001b[0mkwargs\u001b[0m\u001b[0;34m)\u001b[0m\u001b[0;34m\u001b[0m\u001b[0;34m\u001b[0m\u001b[0m\n\u001b[1;32m   1532\u001b[0m     \u001b[0;32mexcept\u001b[0m \u001b[0mException\u001b[0m \u001b[0;32mas\u001b[0m \u001b[0me\u001b[0m\u001b[0;34m:\u001b[0m\u001b[0;34m\u001b[0m\u001b[0;34m\u001b[0m\u001b[0m\n\u001b[0;32m-> 1533\u001b[0;31m         \u001b[0;32mraise\u001b[0m \u001b[0mTypeError\u001b[0m\u001b[0;34m(\u001b[0m\u001b[0;34mf\"can't turn {args} and {kwargs} into a dict. {e}\"\u001b[0m\u001b[0;34m)\u001b[0m\u001b[0;34m\u001b[0m\u001b[0;34m\u001b[0m\u001b[0m\n\u001b[0m\u001b[1;32m   1534\u001b[0m     return {\n\u001b[1;32m   1535\u001b[0m         \u001b[0mget_var_name\u001b[0m\u001b[0;34m(\u001b[0m\u001b[0mk\u001b[0m\u001b[0;34m)\u001b[0m\u001b[0;34m:\u001b[0m \u001b[0mnp\u001b[0m\u001b[0;34m.\u001b[0m\u001b[0marray\u001b[0m\u001b[0;34m(\u001b[0m\u001b[0mv\u001b[0m\u001b[0;34m)\u001b[0m\u001b[0;34m\u001b[0m\u001b[0;34m\u001b[0m\u001b[0m\n",
      "\u001b[0;31mTypeError\u001b[0m: can't turn [Sum{acc_dtype=float64}.0] and {} into a dict. TensorType does not support iteration. Maybe you are using builtins.sum instead of theano.tensor.sum? (Maybe .max?)"
     ]
    }
   ],
   "source": [
    "with pm.Model():\n",
    "    def logp(x):        \n",
    "        a = shared(1)\n",
    "        b = shared(3)\n",
    "        c = shared(6)\n",
    "        #print(a.type)\n",
    "\n",
    "        alpha = 1 + 4 * (b - a) / (c - a)\n",
    "        beta = 1 + 4 * (c - b) / (c - a)\n",
    "        #print(alpha.type)\n",
    "            \n",
    "        arg1 = 1 - x / a\n",
    "        arg2 = 1 + (c - 1) / (1 - x)\n",
    "        arg3 = c - a\n",
    "        ab = alpha + beta\n",
    "        \n",
    "        beta_dist = pm.Beta(\"beta_dist\", alpha=alpha, beta=beta, transform=None)\n",
    "        beta_logp = beta_dist.logp(x)\n",
    "        print(beta_logp.type)\n",
    "        \n",
    "        coef = np.power(arg1, alpha-1) * np.power(arg2, beta-1) / np.power(arg3, ab-1)\n",
    "        #print(coef.type)\n",
    "        return (beta_logp + np.log(coef)).sum()\n",
    "    \n",
    "    x = 3\n",
    "    pert_dist = pm.DensityDist('pert_dist', logp, observed={'x':x})"
   ]
  },
  {
   "cell_type": "markdown",
   "id": "a0e07a2e-fb4c-43c6-80fd-75b0ee57eb06",
   "metadata": {
    "jp-MarkdownHeadingCollapsed": true,
    "tags": []
   },
   "source": [
    "## More Trash"
   ]
  },
  {
   "cell_type": "code",
   "execution_count": 92,
   "id": "04073efd-e231-4daf-95e7-feec635e48ca",
   "metadata": {
    "collapsed": true,
    "jupyter": {
     "outputs_hidden": true,
     "source_hidden": true
    },
    "tags": []
   },
   "outputs": [
    {
     "name": "stdout",
     "output_type": "stream",
     "text": [
      "alpha = 2.6\n",
      "beta = 3.4\n",
      "coef = 0.00891443776815231\n",
      "beta_function = 0.03551671602333521\n"
     ]
    },
    {
     "data": {
      "text/plain": [
       "-1.3823312760524398"
      ]
     },
     "execution_count": 102,
     "metadata": {},
     "output_type": "execute_result"
    }
   ],
   "source": [
    "    def logp(x, a, b, c):\n",
    "        alpha = 1 + 4 * (b - a) / (c - a)\n",
    "        print('alpha = ' + str(alpha))\n",
    "        \n",
    "        beta = 1 + 4 * (c - b) / (c - a)\n",
    "        print('beta = ' + str(beta))\n",
    "        \n",
    "        x_a = x - a\n",
    "        c_x = c - x\n",
    "        c_a = c - a\n",
    "        alpha_beta = alpha + beta\n",
    "        \n",
    "        coef = np.power(x_a, alpha-1) * np.power(c_x, beta-1) / np.power(c_a, alpha_beta-1)\n",
    "        print('coef = ' + str(coef))\n",
    "        \n",
    "        beta_function = sc.beta(2.6, 3.4)\n",
    "        print('beta_function = ' + str(beta_function))\n",
    "        \n",
    "        return np.log(coef / beta_function)\n",
    "\n",
    "    logp(1, 0, 2, 5)"
   ]
  },
  {
   "cell_type": "code",
   "execution_count": 95,
   "id": "667d449a-569e-463c-8f1d-79e4b90248c5",
   "metadata": {
    "collapsed": true,
    "jupyter": {
     "outputs_hidden": true,
     "source_hidden": true
    },
    "tags": []
   },
   "outputs": [
    {
     "name": "stderr",
     "output_type": "stream",
     "text": [
      "/var/folders/dh/21zryz8x2nddglznzqt68jj40000gn/T/ipykernel_37266/2651416748.py:13: RuntimeWarning: divide by zero encountered in log\n",
      "  return np.log(coef / beta_function)\n"
     ]
    }
   ],
   "source": [
    "pdf = np.exp(logp(np.linspace(0, 5, 100000), 0, 2, 5))"
   ]
  },
  {
   "cell_type": "code",
   "execution_count": 111,
   "id": "3a9cf4b4-5642-459e-9f36-338f27ab0bc1",
   "metadata": {
    "collapsed": true,
    "jupyter": {
     "outputs_hidden": true,
     "source_hidden": true
    },
    "tags": []
   },
   "outputs": [
    {
     "data": {
      "text/plain": [
       "<function matplotlib.pyplot.plot(*args, scalex=True, scaley=True, data=None, **kwargs)>"
      ]
     },
     "execution_count": 111,
     "metadata": {},
     "output_type": "execute_result"
    },
    {
     "data": {
      "image/png": "[encoded data removed]",
      "text/plain": [
       "<Figure size 432x288 with 1 Axes>"
      ]
     },
     "metadata": {
      "needs_background": "light"
     },
     "output_type": "display_data"
    }
   ],
   "source": [
    "fig, ax = plt.subplots()\n",
    "ax.set_ylim(0, .5)\n",
    "ax.set_xticks(np.linspace(0, 5, 6))\n",
    "ax.plot(np.linspace(0, 5, 100000), pdf)\n",
    "plt.plot"
   ]
  },
  {
   "cell_type": "code",
   "execution_count": 90,
   "id": "4cd37c2b-69cd-4ec5-9cb1-3aafccdbe60f",
   "metadata": {
    "collapsed": true,
    "jupyter": {
     "outputs_hidden": true,
     "source_hidden": true
    },
    "tags": []
   },
   "outputs": [
    {
     "name": "stderr",
     "output_type": "stream",
     "text": [
      "/var/folders/dh/21zryz8x2nddglznzqt68jj40000gn/T/ipykernel_37266/1040721448.py:1: RuntimeWarning: invalid value encountered in power\n",
      "  np.power(np.random.rand(2) - np.random.rand(2), np.random.rand(2)-1)\n"
     ]
    },
    {
     "data": {
      "text/plain": [
       "array([nan, nan])"
      ]
     },
     "execution_count": 90,
     "metadata": {},
     "output_type": "execute_result"
    }
   ],
   "source": [
    "np.power(np.random.rand(2) - np.random.rand(2), np.random.rand(2)-1)"
   ]
  },
  {
   "cell_type": "code",
   "execution_count": 78,
   "id": "d88e9653-3ba5-46dd-bc50-c747d8433c1a",
   "metadata": {
    "jupyter": {
     "source_hidden": true
    },
    "tags": []
   },
   "outputs": [
    {
     "data": {
      "text/plain": [
       "array([2.48970422, 7.28520299])"
      ]
     },
     "execution_count": 78,
     "metadata": {},
     "output_type": "execute_result"
    }
   ],
   "source": [
    "sc.beta(np.random.rand(2), np.random.rand(2))"
   ]
  }
 ],
 "metadata": {
  "kernelspec": {
   "display_name": "Python 3 (ipykernel)",
   "language": "python",
   "name": "python3"
  },
  "language_info": {
   "codemirror_mode": {
    "name": "ipython",
    "version": 3
   },
   "file_extension": ".py",
   "mimetype": "text/x-python",
   "name": "python",
   "nbconvert_exporter": "python",
   "pygments_lexer": "ipython3",
   "version": "3.9.7"
  }
 },
 "nbformat": 4,
 "nbformat_minor": 5
}
