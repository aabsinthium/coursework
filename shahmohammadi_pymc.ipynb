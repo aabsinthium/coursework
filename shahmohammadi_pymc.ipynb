{
 "cells": [
  {
   "cell_type": "markdown",
   "id": "8acb4184-e48a-4227-9ebd-2ac2eb6cd634",
   "metadata": {
    "jp-MarkdownHeadingCollapsed": true,
    "tags": []
   },
   "source": [
    "# Libs"
   ]
  },
  {
   "cell_type": "code",
   "execution_count": 10,
   "id": "46e8dae2-e702-41a8-a84c-2f9e7f344311",
   "metadata": {},
   "outputs": [],
   "source": [
    "import math\n",
    "import warnings\n",
    "\n",
    "import numpy as np\n",
    "import arviz as az\n",
    "import pymc3 as pm\n",
    "import pandas as pd\n",
    "import seaborn as sns\n",
    "import scipy.special as sc\n",
    "import theano.tensor as tt\n",
    "import matplotlib.pyplot as plt\n",
    "from scipy import stats\n",
    "#from theano import shared, function\n",
    "#from pymc3.distributions.dist_math import betaln, bound\n",
    "\n",
    "from custom import pert\n",
    "\n",
    "warnings.simplefilter(action=\"ignore\", category=FutureWarning)"
   ]
  },
  {
   "cell_type": "code",
   "execution_count": 11,
   "id": "8789f6a7-bfd7-462c-8b6d-50857e349349",
   "metadata": {},
   "outputs": [
    {
     "name": "stdout",
     "output_type": "stream",
     "text": [
      "Running on PyMC v3.11.4\n",
      "Running on ArviZ v0.11.2\n"
     ]
    }
   ],
   "source": [
    "%config InlineBackend.figure_format = 'retina'\n",
    "az.style.use(\"arviz-darkgrid\")\n",
    "print(f\"Running on PyMC v{pm.__version__}\")\n",
    "print(f\"Running on ArviZ v{az.__version__}\")"
   ]
  },
  {
   "cell_type": "markdown",
   "id": "54c678c1-1827-4e5d-9140-ecb7459e2cf0",
   "metadata": {},
   "source": [
    "# Main"
   ]
  },
  {
   "cell_type": "markdown",
   "id": "b93b5f5d-fedf-44ca-908d-b17697f306ad",
   "metadata": {
    "tags": []
   },
   "source": [
    "## Baskets"
   ]
  },
  {
   "cell_type": "code",
   "execution_count": 12,
   "id": "f3996502-355d-4a21-85b6-950cbe1ed46d",
   "metadata": {},
   "outputs": [],
   "source": [
    "with pm.Model():\n",
    "    bs_pp = pert(name=\"Basket Size: Pure Players\", a=1, b=2, c=5, transform=None).random(size=100000) # basket size distribution for pure players\n",
    "    bs_bc = pert(name=\"Basket Size: Bricks & Clicks\", a=5, b=45, c=100, transform=None).random(size=100000) # basket size distribution for bricks & clicks"
   ]
  },
  {
   "cell_type": "markdown",
   "id": "6174bb0b-bb05-4bd1-9a84-513f6fb3e673",
   "metadata": {
    "tags": []
   },
   "source": [
    "## Passenger Car"
   ]
  },
  {
   "cell_type": "code",
   "execution_count": 13,
   "id": "6d40a0a0-3730-49f5-b2dc-66a04211f8dc",
   "metadata": {},
   "outputs": [],
   "source": [
    "car_milage = 2400000 # avg passenger car milage (km)\n",
    "car_weight = 1000 # avg passenger car weight in (kg)\n",
    "\n",
    "car_maint = 1080 # GHG per car caused by maintenance (kg)\n",
    "car_maint_ghg = car_maint / car_milage # GHG per every km caused by maintenance (kg/km)\n",
    "\n",
    "car_emis = 7 # GHG per kg of car weight caused by direct emissions (kg/kg)\n",
    "car_emis_ghg = car_emis * car_weight / car_milage # GHG per every km caused by direct emissions (kg/km)\n",
    "\n",
    "car_total_ghg = car_maint_ghg + car_emis_ghg"
   ]
  },
  {
   "cell_type": "markdown",
   "id": "1a070dcf-253a-49c8-997b-59d24ce7b4a9",
   "metadata": {
    "tags": []
   },
   "source": [
    "## Pure Players"
   ]
  },
  {
   "cell_type": "markdown",
   "id": "337d40ff-ddd9-4e22-b199-ce73b80fb3af",
   "metadata": {},
   "source": [
    "### Last Mile Packaging"
   ]
  },
  {
   "cell_type": "code",
   "execution_count": 16,
   "id": "21e75647-4638-4af0-9585-002605603421",
   "metadata": {},
   "outputs": [],
   "source": [
    "with pm.Model():\n",
    "    product_vol = pm.Lognormal(name = 'Product Weight', mu=-1.38, sigma=1.14).random(size=100000) # volume of product in liters (l)\n",
    "    box_sat = pert(name='Box Saturation', a=.1, b=.5, c=.9, transform=None).random(size=100000) # share of box volume consumed by product (l/l)"
   ]
  },
  {
   "cell_type": "code",
   "execution_count": null,
   "id": "f5d41df6-30e9-4a40-bfec-e659f1ec7c07",
   "metadata": {},
   "outputs": [],
   "source": [
    "cardboard_weight = 12.5 # grams of cardboard per every liter of box volume (g/l)\n",
    "lm_box = cardboard_weight * product_vol / box_sat # distribution of weights of cardbord per single package (g)\n",
    "\n"
   ]
  }
 ],
 "metadata": {
  "kernelspec": {
   "display_name": "Python 3 (ipykernel)",
   "language": "python",
   "name": "python3"
  },
  "language_info": {
   "codemirror_mode": {
    "name": "ipython",
    "version": 3
   },
   "file_extension": ".py",
   "mimetype": "text/x-python",
   "name": "python",
   "nbconvert_exporter": "python",
   "pygments_lexer": "ipython3",
   "version": "3.9.7"
  }
 },
 "nbformat": 4,
 "nbformat_minor": 5
}
